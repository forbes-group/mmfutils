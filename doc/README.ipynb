{
 "cells": [
  {
   "cell_type": "markdown",
   "metadata": {},
   "source": [
    "# MMF Utils"
   ]
  },
  {
   "cell_type": "markdown",
   "metadata": {},
   "source": [
    "Small set of utilities: containers and interfaces.\n",
    "\n",
    "This package provides some utilities that I tend to rely on during development.  Presently it includes some convenience containers, plotting tools, and a patch for including [zope.interface](http://docs.zope.org/zope.interface/) documentation in a notebook.\n",
    "\n",
    "(Note: If this file does not render properly, try viewing it through [nbviewer.org](http://nbviewer.ipython.org/urls/bitbucket.org/mforbes/mmfutils-fork/raw/tip/doc/README.ipynb))\n",
    "\n",
    "**Documentation:**\n",
    "   http://mmfutils.readthedocs.org\n",
    "\n",
    "**Source:**\n",
    "\n",
    " * https://alum.mit.edu/www/mforbes/hg/forbes-group/mmfutils: Permalink (will forward).\n",
    " * https://hg.iscimath.org/forbes-group/mmfutils: Current, in case the permalink fails.\n",
    " * https://github.com/forbes-group/mmfutils: Public read-only mirror.\n",
    "   \n",
    "**Issues:**\n",
    " https://alum.mit.edu/www/mforbes/hg/forbes-group/mmfutils/issues\n",
    "  \n",
    "**Build Status**\n",
    "\n",
    "[![Documentation Status](https://readthedocs.org/projects/mmfutils/badge/?version=latest)](https://mmfutils.readthedocs.io/en/latest/?badge=latest)\n",
    "[![Build Status](https://cloud.drone.io/api/badges/forbes-group/mmfutils/status.svg)](https://cloud.drone.io/forbes-group/mmfutils) "
   ]
  },
  {
   "cell_type": "markdown",
   "metadata": {
    "toc": "true"
   },
   "source": [
    "<h1>Table of Contents<span class=\"tocSkip\"></span></h1>\n",
    "<div class=\"toc\"><ul class=\"toc-item\"><li><span><a href=\"#MMF-Utils\" data-toc-modified-id=\"MMF-Utils-1\"><span class=\"toc-item-num\">1&nbsp;&nbsp;</span>MMF Utils</a></span><ul class=\"toc-item\"><li><span><a href=\"#Installing\" data-toc-modified-id=\"Installing-1.1\"><span class=\"toc-item-num\">1.1&nbsp;&nbsp;</span>Installing</a></span></li></ul></li><li><span><a href=\"#Usage\" data-toc-modified-id=\"Usage-2\"><span class=\"toc-item-num\">2&nbsp;&nbsp;</span>Usage</a></span><ul class=\"toc-item\"><li><span><a href=\"#Containers\" data-toc-modified-id=\"Containers-2.1\"><span class=\"toc-item-num\">2.1&nbsp;&nbsp;</span>Containers</a></span><ul class=\"toc-item\"><li><span><a href=\"#ObjectBase-and-Object\" data-toc-modified-id=\"ObjectBase-and-Object-2.1.1\"><span class=\"toc-item-num\">2.1.1&nbsp;&nbsp;</span>ObjectBase and Object</a></span><ul class=\"toc-item\"><li><span><a href=\"#Object-Example\" data-toc-modified-id=\"Object-Example-2.1.1.1\"><span class=\"toc-item-num\">2.1.1.1&nbsp;&nbsp;</span>Object Example</a></span></li></ul></li><li><span><a href=\"#Container\" data-toc-modified-id=\"Container-2.1.2\"><span class=\"toc-item-num\">2.1.2&nbsp;&nbsp;</span>Container</a></span><ul class=\"toc-item\"><li><span><a href=\"#Container-Examples\" data-toc-modified-id=\"Container-Examples-2.1.2.1\"><span class=\"toc-item-num\">2.1.2.1&nbsp;&nbsp;</span>Container Examples</a></span></li></ul></li></ul></li><li><span><a href=\"#Contexts\" data-toc-modified-id=\"Contexts-2.2\"><span class=\"toc-item-num\">2.2&nbsp;&nbsp;</span>Contexts</a></span></li><li><span><a href=\"#Interfaces\" data-toc-modified-id=\"Interfaces-2.3\"><span class=\"toc-item-num\">2.3&nbsp;&nbsp;</span>Interfaces</a></span><ul class=\"toc-item\"><li><span><a href=\"#Interface-Documentation\" data-toc-modified-id=\"Interface-Documentation-2.3.1\"><span class=\"toc-item-num\">2.3.1&nbsp;&nbsp;</span>Interface Documentation</a></span></li></ul></li><li><span><a href=\"#Parallel\" data-toc-modified-id=\"Parallel-2.4\"><span class=\"toc-item-num\">2.4&nbsp;&nbsp;</span>Parallel</a></span></li><li><span><a href=\"#Performance\" data-toc-modified-id=\"Performance-2.5\"><span class=\"toc-item-num\">2.5&nbsp;&nbsp;</span>Performance</a></span></li><li><span><a href=\"#Plotting\" data-toc-modified-id=\"Plotting-2.6\"><span class=\"toc-item-num\">2.6&nbsp;&nbsp;</span>Plotting</a></span><ul class=\"toc-item\"><li><span><a href=\"#Fast-Filled-Contour-Plots\" data-toc-modified-id=\"Fast-Filled-Contour-Plots-2.6.1\"><span class=\"toc-item-num\">2.6.1&nbsp;&nbsp;</span>Fast Filled Contour Plots</a></span></li></ul></li><li><span><a href=\"#Angular-Variables\" data-toc-modified-id=\"Angular-Variables-2.7\"><span class=\"toc-item-num\">2.7&nbsp;&nbsp;</span>Angular Variables</a></span></li><li><span><a href=\"#Debugging\" data-toc-modified-id=\"Debugging-2.8\"><span class=\"toc-item-num\">2.8&nbsp;&nbsp;</span>Debugging</a></span></li><li><span><a href=\"#Mathematics\" data-toc-modified-id=\"Mathematics-2.9\"><span class=\"toc-item-num\">2.9&nbsp;&nbsp;</span>Mathematics</a></span></li></ul></li><li><span><a href=\"#Developer-Instructions\" data-toc-modified-id=\"Developer-Instructions-3\"><span class=\"toc-item-num\">3&nbsp;&nbsp;</span>Developer Instructions</a></span><ul class=\"toc-item\"><li><span><a href=\"#Releases\" data-toc-modified-id=\"Releases-3.1\"><span class=\"toc-item-num\">3.1&nbsp;&nbsp;</span>Releases</a></span></li></ul></li><li><span><a href=\"#Change-Log\" data-toc-modified-id=\"Change-Log-4\"><span class=\"toc-item-num\">4&nbsp;&nbsp;</span>Change Log</a></span><ul class=\"toc-item\"><li><span><a href=\"#REL:-0.5.4\" data-toc-modified-id=\"REL:-0.5.4-4.1\"><span class=\"toc-item-num\">4.1&nbsp;&nbsp;</span>REL: 0.5.4</a></span></li><li><span><a href=\"#REL:-0.5.3\" data-toc-modified-id=\"REL:-0.5.3-4.2\"><span class=\"toc-item-num\">4.2&nbsp;&nbsp;</span>REL: 0.5.3</a></span></li><li><span><a href=\"#REL:-0.5.1\" data-toc-modified-id=\"REL:-0.5.1-4.3\"><span class=\"toc-item-num\">4.3&nbsp;&nbsp;</span>REL: 0.5.1</a></span></li><li><span><a href=\"#REL:-0.5.0\" data-toc-modified-id=\"REL:-0.5.0-4.4\"><span class=\"toc-item-num\">4.4&nbsp;&nbsp;</span>REL: 0.5.0</a></span></li><li><span><a href=\"#REL:-0.4.13\" data-toc-modified-id=\"REL:-0.4.13-4.5\"><span class=\"toc-item-num\">4.5&nbsp;&nbsp;</span>REL: 0.4.13</a></span></li><li><span><a href=\"#REL:-0.4.10\" data-toc-modified-id=\"REL:-0.4.10-4.6\"><span class=\"toc-item-num\">4.6&nbsp;&nbsp;</span>REL: 0.4.10</a></span></li><li><span><a href=\"#REL:-0.4.9\" data-toc-modified-id=\"REL:-0.4.9-4.7\"><span class=\"toc-item-num\">4.7&nbsp;&nbsp;</span>REL: 0.4.9</a></span></li><li><span><a href=\"#REL:-0.4.7\" data-toc-modified-id=\"REL:-0.4.7-4.8\"><span class=\"toc-item-num\">4.8&nbsp;&nbsp;</span>REL: 0.4.7</a></span></li></ul></li></ul></div>"
   ]
  },
  {
   "cell_type": "markdown",
   "metadata": {},
   "source": [
    "## Installing"
   ]
  },
  {
   "cell_type": "markdown",
   "metadata": {},
   "source": [
    "This package can be installed from [PyPI](https://pypi.org/project/mmfutils/):\n",
    "\n",
    "```bash\n",
    "python3 -m pip install mmfutils\n",
    "```\n",
    "\n",
    "or, if you need to install from source, you can get it from one of the repositories:\n",
    "\n",
    "```bash\n",
    "python3 -m pip install hg+https://alum.mit.edu/www/mforbes/hg/forbes-group/mmfutils\n",
    "python3 -m pip install git+https://github.com/forbes-group/mmfutils\n",
    "```"
   ]
  },
  {
   "cell_type": "markdown",
   "metadata": {},
   "source": [
    "# Usage"
   ]
  },
  {
   "cell_type": "markdown",
   "metadata": {},
   "source": [
    "## Containers"
   ]
  },
  {
   "cell_type": "markdown",
   "metadata": {},
   "source": [
    "### ObjectBase and Object"
   ]
  },
  {
   "cell_type": "markdown",
   "metadata": {},
   "source": [
    "The `ObjectBase` and `Object` classes provide some useful features described below. Consider a problem where a class is defined through a few parameters, but requires extensive initialization before it can be properly used.  An example is a numerical simulation where one passes the number of grid points $N$ and a length $L$, but the initialization must generate large grids for efficient use later on.  These grids should be generated before computations begin, but should not be re-generated every time needed.  They also should not be pickled when saved to disk.\n",
    "\n",
    "**Deferred initialization via the `init()` method:** The idea here changes the semantics of `__init__()` slightly by deferring any expensive initialization to `init()`.  Under this scheme, `__init__()` should only set and check what we call picklable attributes: these are parameters that define the object (they will be pickled in `Object` below) and will be stored in a list `self.picklable_attributes` which is computed at the end of `ObjectBase.__init__()` as the list of all keys in `__dict__`.  Then, `ObjectBase.__init__()` will call `init()` where all remaining attributes should be calculated.  \n",
    "\n",
    "This allows users to change various attributes, then reinitialize the object once with an explicit call to `init()` before performing expensive computations.  This is an alternative to providing complete properties (getters and setters) for objects that need to trigger computation.  The use of setters is safer, but requires more work on the side of the developer and can lead to complex code when different properties depend on each other.  The approach here puts all computations in a single place.  Of course, the user must remember to call `init()` before working with the object.\n",
    "\n",
    "To facilitate this, we provide a mild check in the form of an `initialized` flag that is set to `True` at the end of the base `init()` chain, and set to `False` if any variables are in `pickleable_attributes` are set.\n",
    "\n",
    "**Serialization and Deferred Initialization:** \n",
    "The base class `ObjectBase` does not provide any pickling services but does provide a nice representation.  Additional functionality is provided by `Object` which uses the features of `ObjectBase` to define `__getstate__()` and `__setstate__()` methods for pickling which pickle only the `picklable_attributes`.  Note: unpickling an object will **not** call `__init__()` but will call `init()` giving objects a chance to restore the computed attributes from pickles.\n",
    "\n",
    "* **Note:** *Before using, consider if these features are really needed – with all such added functionality comes additional potential failure modes from side-interactions. The `ObjectBase` class is quite simple, and therefore quite safe, while `Object` adds additional functionality with potential side-effects.  For example, a side-effect of support for pickles is that `copy.copy()` will also invoke `init()` when copying might instead be much faster.  Thus, we recommend only using `ObjectBase` for efficient code.*"
   ]
  },
  {
   "cell_type": "markdown",
   "metadata": {},
   "source": [
    "#### Object Example"
   ]
  },
  {
   "cell_type": "code",
   "execution_count": 1,
   "metadata": {},
   "outputs": [
    {
     "name": "stdout",
     "output_type": "stream",
     "text": [
      "init() called\n",
      "__init__() called\n",
      "State(L=1.0, N=256)\n"
     ]
    }
   ],
   "source": [
    "ROOTDIR = !hg root\n",
    "ROOTDIR = ROOTDIR[0]\n",
    "import sys;sys.path.insert(0, ROOTDIR)\n",
    "\n",
    "import numpy as np\n",
    "\n",
    "from mmfutils.containers import ObjectBase, ObjectMixin\n",
    "\n",
    "class State(ObjectBase):  \n",
    "    _quiet = False\n",
    "    def __init__(self, N, L=1.0, **kw):\n",
    "        \"\"\"Set all of the picklable parameters, in this case, N and L.\"\"\"\n",
    "        self.N = N\n",
    "        self.L = L\n",
    "        \n",
    "        # Now register these and call init()\n",
    "        super().__init__(**kw)\n",
    "        if not self._quiet:\n",
    "            print(\"__init__() called\")\n",
    "        \n",
    "    def init(self):\n",
    "        \"\"\"All additional initializations\"\"\"\n",
    "        if not self._quiet:\n",
    "            print(\"init() called\")\n",
    "        dx = self.L / self.N\n",
    "        self.x = np.arange(self.N, dtype=float) * dx - self.L/2.0\n",
    "        self.k = 2*np.pi * np.fft.fftfreq(self.N, dx)\n",
    "\n",
    "        # Set highest momentum to zero if N is even to\n",
    "        # avoid rapid oscillations\n",
    "        if self.N % 2 == 0:\n",
    "            self.k[self.N//2] = 0.0\n",
    "\n",
    "        # Calls base class which sets self.initialized\n",
    "        super().init()\n",
    "            \n",
    "    def compute_derivative(self, f):\n",
    "        \"\"\"Return the derivative of f.\"\"\"        \n",
    "        return np.fft.ifft(self.k*1j*np.fft.fft(f)).real\n",
    "\n",
    "s = State(256)\n",
    "print(s)  # No default value for L"
   ]
  },
  {
   "cell_type": "code",
   "execution_count": 2,
   "metadata": {},
   "outputs": [
    {
     "name": "stdout",
     "output_type": "stream",
     "text": [
      "State(L=2.0, N=256)\n"
     ]
    }
   ],
   "source": [
    "s.L = 2.0\n",
    "print(s)"
   ]
  },
  {
   "cell_type": "markdown",
   "metadata": {},
   "source": [
    "One feature is that a nice ``repr()`` of the object is produced.  Now let's do a calculation:"
   ]
  },
  {
   "cell_type": "code",
   "execution_count": 3,
   "metadata": {},
   "outputs": [
    {
     "data": {
      "text/plain": [
       "False"
      ]
     },
     "execution_count": 3,
     "metadata": {},
     "output_type": "execute_result"
    }
   ],
   "source": [
    "f = np.exp(3*np.cos(2*np.pi*s.x/s.L)) / 15\n",
    "df = -2.*np.pi/5.*np.exp(3*np.cos(2*np.pi*s.x/s.L))*np.sin(2*np.pi*s.x/s.L)/s.L\n",
    "np.allclose(s.compute_derivative(f), df)"
   ]
  },
  {
   "cell_type": "markdown",
   "metadata": {},
   "source": [
    "Oops!  We forgot to reinitialize the object... (The formula is correct, but the lattice is no longer commensurate so the FFT derivative has huge errors)."
   ]
  },
  {
   "cell_type": "code",
   "execution_count": 4,
   "metadata": {},
   "outputs": [
    {
     "name": "stdout",
     "output_type": "stream",
     "text": [
      "False\n",
      "init() called\n"
     ]
    },
    {
     "data": {
      "text/plain": [
       "True"
      ]
     },
     "execution_count": 4,
     "metadata": {},
     "output_type": "execute_result"
    }
   ],
   "source": [
    "print(s.initialized)\n",
    "s.init()\n",
    "assert s.initialized\n",
    "f = np.exp(3*np.cos(2*np.pi*s.x/s.L)) / 15\n",
    "df = -2.*np.pi/5.*np.exp(3*np.cos(2*np.pi*s.x/s.L))*np.sin(2*np.pi*s.x/s.L)/s.L\n",
    "np.allclose(s.compute_derivative(f), df)"
   ]
  },
  {
   "cell_type": "markdown",
   "metadata": {},
   "source": [
    "Here we demonstrate pickling.  Note that using `Object` makes the pickles very small, and when unpickled, ``init()`` is called to re-establish ``s.x`` and ``s.k``.  Generally one would inherit from `Object`, but since we already have a class, we can provide pickling functionality with `ObjectMixin`:"
   ]
  },
  {
   "cell_type": "code",
   "execution_count": 5,
   "metadata": {},
   "outputs": [],
   "source": [
    "class State1(ObjectMixin, State):\n",
    "    pass\n",
    "\n",
    "s = State(N=256, _quiet=True)\n",
    "s1 = State1(N=256, _quiet=True)"
   ]
  },
  {
   "cell_type": "code",
   "execution_count": 6,
   "metadata": {},
   "outputs": [
    {
     "name": "stdout",
     "output_type": "stream",
     "text": [
      "ObjectBase pickle:  4396 bytes\n",
      "ObjectMixin pickle: 103 bytes\n"
     ]
    }
   ],
   "source": [
    "import pickle, copy\n",
    "s_repr = pickle.dumps(s)\n",
    "s1_repr = pickle.dumps(s1)\n",
    "print(f\"ObjectBase pickle:  {len(s_repr)} bytes\")\n",
    "print(f\"ObjectMixin pickle: {len(s1_repr)} bytes\")"
   ]
  },
  {
   "cell_type": "markdown",
   "metadata": {},
   "source": [
    "Note, however, that the speed of copying is significantly impacted:"
   ]
  },
  {
   "cell_type": "code",
   "execution_count": 7,
   "metadata": {},
   "outputs": [
    {
     "name": "stdout",
     "output_type": "stream",
     "text": [
      "2.58 µs ± 34.3 ns per loop (mean ± std. dev. of 7 runs, 100000 loops each)\n",
      "27.1 µs ± 404 ns per loop (mean ± std. dev. of 7 runs, 10000 loops each)\n"
     ]
    }
   ],
   "source": [
    "%timeit copy.copy(s)\n",
    "%timeit copy.copy(s1)"
   ]
  },
  {
   "cell_type": "markdown",
   "metadata": {},
   "source": [
    "Another use case applies when ``init()`` is expensive.  If $x$ and $k$ were computed in ``__init__()``, then using properties to change both $N$ and $L$ would trigger two updates.  Here we do the updates, then call ``init()``.  Good practice is to call ``init()`` automatically before any serious calculation to ensure that the object is brought up to date before the computation."
   ]
  },
  {
   "cell_type": "code",
   "execution_count": 8,
   "metadata": {},
   "outputs": [],
   "source": [
    "s.N = 64\n",
    "s.L = 2.0\n",
    "s.init()"
   ]
  },
  {
   "cell_type": "markdown",
   "metadata": {},
   "source": [
    "Finally, we demonstrate that ``Object`` instances can be archived using the ``persist`` package:"
   ]
  },
  {
   "cell_type": "code",
   "execution_count": 9,
   "metadata": {},
   "outputs": [
    {
     "data": {
      "text/plain": [
       "State(L=2.0, N=64, _quiet=True)"
      ]
     },
     "execution_count": 9,
     "metadata": {},
     "output_type": "execute_result"
    }
   ],
   "source": [
    "import persist.archive\n",
    "a = persist.archive.Archive(check_on_insert=True)\n",
    "a.insert(s=s)\n",
    "\n",
    "d = {}\n",
    "exec(str(a), d)\n",
    "\n",
    "d['s']"
   ]
  },
  {
   "cell_type": "markdown",
   "metadata": {},
   "source": [
    "### Container"
   ]
  },
  {
   "cell_type": "markdown",
   "metadata": {},
   "source": [
    "The ``Container`` object is a slight extension of ``Object`` that provides a simple container for storing data with attribute and iterative access. These implement some of the [Collections Abstract Base Classes from the python standard library](https://docs.python.org/2/library/collections.html#collections-abstract-base-classes). The following containers are provided:\n",
    "\n",
    "- ``Container``: Bare-bones container extending the ``Sized``, ``Iterable``, and ``Container`` abstract ase classes (ABCs) from the standard ``containers`` library.\n",
    "- ``ContainerList``: Extension that acts like a tuple/list satisfying the ``Sequence`` ABC from the ``containers`` library (but not the ``MutableSequence`` ABC.  Although we allow setting and deleting items, we do not provide a way for insertion, which breaks this interface.)\n",
    "- ``ContainerDict``: Extension that acts like a dict satisfying the ``MutableMapping`` ABC from the ``containers`` library.\n",
    "\n",
    "These were designed with the following use cases in mind:\n",
    "\n",
    "- Returning data from a function associating names with each data.  The resulting ``ContainerList`` will act like a tuple, but will support attribute access.  Note that the order will be lexicographic.  One could use a dictionary, but attribute access with tab completion is much nicer in an interactive session.  The ``containers.nametuple`` generator could also be used, but this is somewhat more complicated (though might be faster).  Also, named tuples are immutable - here we provide a mutable object that is picklable etc.  The choice between ``ContainerList`` and ``ContainerDict`` will depend on subsequent usage.  Containers can be converted from one type to another."
   ]
  },
  {
   "cell_type": "markdown",
   "metadata": {},
   "source": [
    "#### Container Examples"
   ]
  },
  {
   "cell_type": "code",
   "execution_count": 10,
   "metadata": {},
   "outputs": [
    {
     "name": "stdout",
     "output_type": "stream",
     "text": [
      "Container(a=1, b='Hi there', c=2)\n",
      "(1, 'Hi there', 2)\n"
     ]
    }
   ],
   "source": [
    "from mmfutils.containers import Container\n",
    "\n",
    "c = Container(a=1, c=2, b='Hi there')\n",
    "print(c)\n",
    "print(tuple(c))"
   ]
  },
  {
   "cell_type": "code",
   "execution_count": 11,
   "metadata": {},
   "outputs": [
    {
     "name": "stdout",
     "output_type": "stream",
     "text": [
      "Container(a=1, b='Ho there', c=2)\n"
     ]
    }
   ],
   "source": [
    "# Attributes are mutable\n",
    "c.b = 'Ho there'\n",
    "print(c)"
   ]
  },
  {
   "cell_type": "code",
   "execution_count": 12,
   "metadata": {},
   "outputs": [
    {
     "name": "stdout",
     "output_type": "stream",
     "text": [
      "Container(a=1, b='Ho there', c=2)\n",
      "[[1. 1. 1. ... 1. 1. 1.]\n",
      " [1. 1. 1. ... 1. 1. 1.]\n",
      " [1. 1. 1. ... 1. 1. 1.]\n",
      " ...\n",
      " [1. 1. 1. ... 1. 1. 1.]\n",
      " [1. 1. 1. ... 1. 1. 1.]\n",
      " [1. 1. 1. ... 1. 1. 1.]]\n"
     ]
    }
   ],
   "source": [
    "# Other attributes can be used for temporary storage but will not be pickled.\n",
    "import numpy as np\n",
    "\n",
    "c.large_temporary_array = np.ones((256,256))\n",
    "print(c)\n",
    "print(c.large_temporary_array)"
   ]
  },
  {
   "cell_type": "code",
   "execution_count": 13,
   "metadata": {},
   "outputs": [
    {
     "name": "stdout",
     "output_type": "stream",
     "text": [
      "Container(a=1, b='Ho there', c=2)\n"
     ]
    },
    {
     "ename": "AttributeError",
     "evalue": "'Container' object has no attribute 'large_temporary_array'",
     "output_type": "error",
     "traceback": [
      "\u001b[0;31m---------------------------------------------------------------------------\u001b[0m",
      "\u001b[0;31mAttributeError\u001b[0m                            Traceback (most recent call last)",
      "\u001b[0;32m<ipython-input-13-bd53d5116502>\u001b[0m in \u001b[0;36m<module>\u001b[0;34m\u001b[0m\n\u001b[1;32m      2\u001b[0m \u001b[0mc1\u001b[0m \u001b[0;34m=\u001b[0m \u001b[0mpickle\u001b[0m\u001b[0;34m.\u001b[0m\u001b[0mloads\u001b[0m\u001b[0;34m(\u001b[0m\u001b[0mpickle\u001b[0m\u001b[0;34m.\u001b[0m\u001b[0mdumps\u001b[0m\u001b[0;34m(\u001b[0m\u001b[0mc\u001b[0m\u001b[0;34m)\u001b[0m\u001b[0;34m)\u001b[0m\u001b[0;34m\u001b[0m\u001b[0;34m\u001b[0m\u001b[0m\n\u001b[1;32m      3\u001b[0m \u001b[0mprint\u001b[0m\u001b[0;34m(\u001b[0m\u001b[0mc1\u001b[0m\u001b[0;34m)\u001b[0m\u001b[0;34m\u001b[0m\u001b[0;34m\u001b[0m\u001b[0m\n\u001b[0;32m----> 4\u001b[0;31m \u001b[0mc1\u001b[0m\u001b[0;34m.\u001b[0m\u001b[0mlarge_temporary_array\u001b[0m\u001b[0;34m\u001b[0m\u001b[0;34m\u001b[0m\u001b[0m\n\u001b[0m",
      "\u001b[0;31mAttributeError\u001b[0m: 'Container' object has no attribute 'large_temporary_array'"
     ]
    }
   ],
   "source": [
    "import pickle\n",
    "c1 = pickle.loads(pickle.dumps(c))\n",
    "print(c1)\n",
    "c1.large_temporary_array"
   ]
  },
  {
   "cell_type": "markdown",
   "metadata": {},
   "source": [
    "## Contexts"
   ]
  },
  {
   "cell_type": "markdown",
   "metadata": {},
   "source": [
    "The ``mmfutils.contexts`` module provides two useful contexts:\n",
    "\n",
    "``NoInterrupt``: This can be used to susspend ``KeyboardInterrupt`` exceptions until they can be dealt with at a point that is convenient.  A typical use is when performing a series of calculations in a loop.  By placing the loop in a ``NoInterrupt`` context, one can avoid an interrupt from ruining a calculation:"
   ]
  },
  {
   "cell_type": "code",
   "execution_count": 14,
   "metadata": {
    "ExecuteTime": {
     "end_time": "2017-09-23T01:53:13.770852Z",
     "start_time": "2017-09-23T01:53:13.761309Z"
    }
   },
   "outputs": [],
   "source": [
    "from mmfutils.contexts import NoInterrupt\n",
    "\n",
    "complete = False\n",
    "n = 0\n",
    "with NoInterrupt() as interrupted:\n",
    "    while not complete and not interrupted:\n",
    "        n += 1\n",
    "        if n > 10:\n",
    "            complete = True"
   ]
  },
  {
   "cell_type": "markdown",
   "metadata": {},
   "source": [
    "Note: One can nest ``NoInterrupt`` contexts so that outer loops are also interrupted.  Another use-case is mapping.  See [doc/Animation.ipynb](Animation.ipynb) for more examples."
   ]
  },
  {
   "cell_type": "code",
   "execution_count": 15,
   "metadata": {},
   "outputs": [
    {
     "data": {
      "text/plain": [
       "array([1, 1, 1, 1, 1, 1, 1, 1, 1, 1, 1, 1, 1, 1, 1, 1, 1, 1, 1, 1, 1, 1,\n",
       "       1, 1, 1, 1, 1, 1, 1, 1, 1, 1, 1, 1, 1, 1, 1, 1, 1, 1, 1, 1, 1, 1,\n",
       "       1, 1, 1, 1, 1, 1, 1, 1, 1, 1, 1, 1, 1, 1, 1, 1, 1, 1, 1, 1, 1, 1,\n",
       "       1, 1, 1, 1, 1, 1, 1, 1, 1, 1, 1, 1, 1, 1, 1, 1, 1, 1, 1, 1, 1, 1,\n",
       "       1, 1, 1, 1, 1, 1, 1, 1, 1, 1, 1, 1, 0, 1, 1, 1, 1, 1, 1, 1, 1, 1,\n",
       "       1, 1, 1, 1, 1, 1, 1, 1, 1, 1, 1, 1, 1, 1, 1, 1, 1, 1, 1, 1, 1, 1,\n",
       "       1, 1, 1, 1, 1, 1, 1, 1, 1, 1, 1, 1, 1, 1, 1, 1, 1, 1, 1, 1, 1, 1,\n",
       "       1, 1, 1, 1, 1, 1, 1, 1, 1, 1, 1, 1, 1, 1, 1, 1, 1, 1, 1, 1, 1, 1,\n",
       "       1, 1, 1, 1, 1, 1, 1, 1, 1, 1, 1, 1, 1, 1, 1, 1, 1, 1, 1, 1, 1, 1,\n",
       "       1, 1])"
      ]
     },
     "execution_count": 15,
     "metadata": {},
     "output_type": "execute_result"
    }
   ],
   "source": [
    "res = NoInterrupt().map(abs, range(-100, 100))\n",
    "np.sign(res)"
   ]
  },
  {
   "cell_type": "markdown",
   "metadata": {},
   "source": [
    "## Interfaces"
   ]
  },
  {
   "cell_type": "markdown",
   "metadata": {},
   "source": [
    "The interfaces module collects some useful [zope.interface](http://docs.zope.org/zope.interface/) tools for checking interface requirements.  Interfaces provide a convenient way of communicating to a programmer what needs to be done to used your code.  This can then be checked in tests."
   ]
  },
  {
   "cell_type": "code",
   "execution_count": 16,
   "metadata": {},
   "outputs": [],
   "source": [
    "from mmfutils.interface import Interface, Attribute, verifyClass, verifyObject, implementer\n",
    "\n",
    "class IAdder(Interface):\n",
    "    \"\"\"Interface for objects that support addition.\"\"\"\n",
    "\n",
    "    value = Attribute('value', \"Current value of object\")\n",
    "\n",
    "    # No self here since this is the \"user\" interface\n",
    "    def add(other):\n",
    "        \"\"\"Return self + other.\"\"\""
   ]
  },
  {
   "cell_type": "markdown",
   "metadata": {},
   "source": [
    "Here is a broken implementation. We muck up the arguments to ``add``:"
   ]
  },
  {
   "cell_type": "code",
   "execution_count": 17,
   "metadata": {},
   "outputs": [
    {
     "name": "stdout",
     "output_type": "stream",
     "text": [
      "BrokenMethodImplementation: The object <class '__main__.AdderBroken'> has failed to implement interface __main__.IAdder: The contract of __main__.IAdder.add(other) is violated because 'AdderBroken.add(self, one, another)' requires too many arguments.\n"
     ]
    }
   ],
   "source": [
    "@implementer(IAdder)\n",
    "class AdderBroken(object):\n",
    "    def add(self, one, another):\n",
    "        # There should only be one argument!\n",
    "        return one + another\n",
    "\n",
    "try:\n",
    "    verifyClass(IAdder, AdderBroken)\n",
    "except Exception as e:\n",
    "    print(\"{0.__class__.__name__}: {0}\".format(e))\n",
    "    "
   ]
  },
  {
   "cell_type": "markdown",
   "metadata": {},
   "source": [
    "Now we get ``add`` right, but forget to define ``value``.  This is only caught when we have an object since the attribute is supposed to be defined in ``__init__()``:"
   ]
  },
  {
   "cell_type": "code",
   "execution_count": 18,
   "metadata": {},
   "outputs": [
    {
     "name": "stdout",
     "output_type": "stream",
     "text": [
      "BrokenImplementation: The object <__main__.AdderBroken object at 0x11693cac0> has failed to implement interface __main__.IAdder: The __main__.IAdder.value attribute was not provided.\n"
     ]
    }
   ],
   "source": [
    "@implementer(IAdder)\n",
    "class AdderBroken(object):\n",
    "    def add(self, other):\n",
    "        return one + other\n",
    "\n",
    "# The class validates...\n",
    "verifyClass(IAdder, AdderBroken)\n",
    "\n",
    "# ... but objects are missing the value Attribute\n",
    "try:\n",
    "    verifyObject(IAdder, AdderBroken())\n",
    "except Exception as e:\n",
    "    print(\"{0.__class__.__name__}: {0}\".format(e))    "
   ]
  },
  {
   "cell_type": "markdown",
   "metadata": {},
   "source": [
    "Finally, a working instance:"
   ]
  },
  {
   "cell_type": "code",
   "execution_count": 19,
   "metadata": {},
   "outputs": [
    {
     "data": {
      "text/plain": [
       "True"
      ]
     },
     "execution_count": 19,
     "metadata": {},
     "output_type": "execute_result"
    }
   ],
   "source": [
    "@implementer(IAdder)\n",
    "class Adder(object):\n",
    "    def __init__(self, value=0):\n",
    "        self.value = value\n",
    "    def add(self, other):\n",
    "        return one + other\n",
    "    \n",
    "verifyClass(IAdder, Adder) and verifyObject(IAdder, Adder())"
   ]
  },
  {
   "cell_type": "markdown",
   "metadata": {},
   "source": [
    "### Interface Documentation"
   ]
  },
  {
   "cell_type": "markdown",
   "metadata": {},
   "source": [
    "We also monkeypatch ``zope.interface.documentation.asStructuredText()`` to provide a mechanism for documentating interfaces in a notebook."
   ]
  },
  {
   "cell_type": "code",
   "execution_count": 20,
   "metadata": {},
   "outputs": [
    {
     "data": {
      "text/html": [
       "<!DOCTYPE html PUBLIC \"-//W3C//DTD XHTML 1.0 Transitional//EN\" \"http://www.w3.org/TR/xhtml1/DTD/xhtml1-transitional.dtd\">\n",
       "<html xmlns=\"http://www.w3.org/1999/xhtml\" xml:lang=\"en\" lang=\"en\">\n",
       "<head>\n",
       "<meta http-equiv=\"Content-Type\" content=\"text/html; charset=utf-8\" />\n",
       "<meta name=\"generator\" content=\"Docutils 0.16: http://docutils.sourceforge.net/\" />\n",
       "<title>&lt;string&gt;</title>\n",
       "\n",
       "<div class=\"document\">\n",
       "\n",
       "\n",
       "<p><tt class=\"docutils literal\">IAdder</tt></p>\n",
       "<blockquote>\n",
       "<p>Interface for objects that support addition.</p>\n",
       "<p>Attributes:</p>\n",
       "<blockquote>\n",
       "<tt class=\"docutils literal\">value</tt> -- Current value of object</blockquote>\n",
       "<p>Methods:</p>\n",
       "<blockquote>\n",
       "<tt class=\"docutils literal\">add(other)</tt> -- Return self + other.</blockquote>\n",
       "</blockquote>\n",
       "</div>\n"
      ],
      "text/plain": [
       "<IPython.core.display.HTML object>"
      ]
     },
     "execution_count": 20,
     "metadata": {},
     "output_type": "execute_result"
    }
   ],
   "source": [
    "from mmfutils.interface import describe_interface\n",
    "describe_interface(IAdder)"
   ]
  },
  {
   "cell_type": "markdown",
   "metadata": {},
   "source": [
    "## Parallel"
   ]
  },
  {
   "cell_type": "markdown",
   "metadata": {},
   "source": [
    "The ``mmfutils.parallel`` module provides some tools for launching and connecting to IPython clusters.  The ``parallel.Cluster`` class represents and controls a cluster.  The cluster is specified by the profile name, and can be started or stopped from this class:"
   ]
  },
  {
   "cell_type": "code",
   "execution_count": 21,
   "metadata": {},
   "outputs": [
    {
     "name": "stdout",
     "output_type": "stream",
     "text": [
      "Waiting for connection file: ~/.ipython/profile_default/security/ipcontroller-client.json\n"
     ]
    },
    {
     "name": "stderr",
     "output_type": "stream",
     "text": [
      "INFO:root:Starting cluster: ipcluster start --daemonize --quiet --profile=default --n=3\n"
     ]
    },
    {
     "name": "stdout",
     "output_type": "stream",
     "text": [
      "Waiting for connection file: ~/.ipython/profile_default/security/ipcontroller-client.json\n"
     ]
    },
    {
     "name": "stderr",
     "output_type": "stream",
     "text": [
      "INFO:root:waiting for 3 engines\n",
      "INFO:root:0 of 3 running\n",
      "INFO:root:3 of 3 running\n",
      "INFO:root:Stopping cluster: ipcluster stop --profile=default\n"
     ]
    },
    {
     "name": "stdout",
     "output_type": "stream",
     "text": [
      "True\n",
      "Waiting for connection file: ~/.ipython/profile_default/security/ipcontroller-client.json\n"
     ]
    }
   ],
   "source": [
    "import logging\n",
    "logger = logging.getLogger()\n",
    "logger.setLevel(logging.INFO)\n",
    "import numpy as np\n",
    "from mmfutils import parallel\n",
    "cluster = parallel.Cluster(profile='default', n=3, sleep_time=1.0)\n",
    "cluster.start()\n",
    "cluster.wait()  # Instance of IPython.parallel.Client\n",
    "view = cluster.load_balanced_view\n",
    "x = np.linspace(-6, 6, 100)\n",
    "y = view.map(lambda x:x**2, x)\n",
    "print(np.allclose(y, x**2))\n",
    "cluster.stop()"
   ]
  },
  {
   "cell_type": "markdown",
   "metadata": {},
   "source": [
    "If you only need a cluster for a single task, it can be managed with a context.  Be sure to wait for the result to be computed before exiting the context and shutting down the cluster!"
   ]
  },
  {
   "cell_type": "code",
   "execution_count": 22,
   "metadata": {},
   "outputs": [
    {
     "name": "stdout",
     "output_type": "stream",
     "text": [
      "Waiting for connection file: ~/.ipython/profile_default/security/ipcontroller-client.json\n"
     ]
    },
    {
     "name": "stderr",
     "output_type": "stream",
     "text": [
      "INFO:root:Starting cluster: ipcluster start --daemonize --quiet --profile=default --n=3\n"
     ]
    },
    {
     "name": "stdout",
     "output_type": "stream",
     "text": [
      "Waiting for connection file: ~/.ipython/profile_default/security/ipcontroller-client.json\n"
     ]
    },
    {
     "name": "stderr",
     "output_type": "stream",
     "text": [
      "INFO:root:waiting for 3 engines\n",
      "INFO:root:0 of 3 running\n",
      "INFO:root:3 of 3 running\n",
      "INFO:root:Stopping cluster: ipcluster stop --profile=default\n"
     ]
    },
    {
     "name": "stdout",
     "output_type": "stream",
     "text": [
      "Waiting for connection file: ~/.ipython/profile_default/security/ipcontroller-client.json\n",
      "True\n"
     ]
    }
   ],
   "source": [
    "with parallel.Cluster(profile='default', n=3, sleep_time=1.0) as client:\n",
    "    view = client.load_balanced_view\n",
    "    x = np.linspace(-6, 6, 100)\n",
    "    y = view.map(lambda x:x**2, x, block=True)  # Make sure to wait for the result!\n",
    "print(np.allclose(y, x**2))"
   ]
  },
  {
   "cell_type": "markdown",
   "metadata": {},
   "source": [
    "If you just need to connect to a running cluster, you can use ``parallel.get_client()``."
   ]
  },
  {
   "cell_type": "markdown",
   "metadata": {},
   "source": [
    "## Performance"
   ]
  },
  {
   "cell_type": "markdown",
   "metadata": {},
   "source": [
    "The ``mmfutils.performance`` module provides some tools for high performance computing.  Note: this module requires some additional packages including [numexp](https://github.com/pydata/numexpr/wiki/Numexpr-Users-Guide), [pyfftw](http://hgomersall.github.io/pyFFTW/), and the ``mkl`` package installed by anaconda.  Some of these require building system libraries (i.e. the [FFTW](http://www.fftw.org)).  However, the various components will not be imported by default.\n",
    "\n",
    "Here is a brief description of the components:\n",
    "\n",
    "* ``mmfutils.performance.blas``: Provides an interface to a few of the scipy BLAS wrappers.  Very incomplete (only things I currently need).\n",
    "* ``mmfutils.performance.fft``: Provides an interface to the [FFTW](http://www.fftw.org) using ``pyfftw`` if it is available.  Also enables the planning cache and setting threads so you can better control your performance.\n",
    "* ``mmfutils.performance.numexpr``: Robustly imports numexpr and disabling the VML.  (If you don't do this carefully, it will crash your program so fast you won't even get a traceback.)\n",
    "* ``mmfutils.performance.threads``: Provides some hooks for setting the maximum number of threads in a bunch of places including the MKL, numexpr, and fftw."
   ]
  },
  {
   "cell_type": "markdown",
   "metadata": {},
   "source": [
    "## Plotting"
   ]
  },
  {
   "cell_type": "markdown",
   "metadata": {},
   "source": [
    "Several tools are provided in `mmfutils.plot`:"
   ]
  },
  {
   "cell_type": "markdown",
   "metadata": {},
   "source": [
    "### Fast Filled Contour Plots"
   ]
  },
  {
   "cell_type": "markdown",
   "metadata": {},
   "source": [
    "`mmfutils.plot.imcontourf` is similar to matplotlib's `plt.contourf` function, but uses `plt.imshow` which is much faster.  This is useful for animations and interactive work.  It also supports my idea of saner array-shape processing (i.e. if `x` and `y` have different shapes, then it will match these to the shape of `z`).  Matplotlib now provies `plt.pcolourmesh` which is similar, but has the same interface issues."
   ]
  },
  {
   "cell_type": "code",
   "execution_count": 23,
   "metadata": {},
   "outputs": [
    {
     "name": "stdout",
     "output_type": "stream",
     "text": [
      "CPU times: user 9.48 ms, sys: 3.72 ms, total: 13.2 ms\n",
      "Wall time: 16.5 ms\n",
      "CPU times: user 38.2 ms, sys: 2.97 ms, total: 41.2 ms\n",
      "Wall time: 45 ms\n",
      "CPU times: user 126 ms, sys: 5.86 ms, total: 132 ms\n",
      "Wall time: 133 ms\n",
      "CPU times: user 4.43 ms, sys: 209 µs, total: 4.64 ms\n",
      "Wall time: 4.65 ms\n"
     ]
    },
    {
     "data": {
      "text/plain": [
       "<matplotlib.collections.QuadMesh at 0x124ec2130>"
      ]
     },
     "execution_count": 23,
     "metadata": {},
     "output_type": "execute_result"
    },
    {
     "data": {
      "image/png": "[encoded data removed]",
      "text/plain": [
       "<Figure size 864x216 with 4 Axes>"
      ]
     },
     "metadata": {
      "needs_background": "light"
     },
     "output_type": "display_data"
    }
   ],
   "source": [
    "%matplotlib inline\n",
    "from matplotlib import pyplot as plt\n",
    "import time\n",
    "import numpy as np\n",
    "from mmfutils import plot as mmfplt\n",
    "x = np.linspace(-1, 1, 100)[:, None]**3\n",
    "y = np.linspace(-0.1, 0.1, 200)[None, :]**3\n",
    "z = np.sin(10*x)*y**2\n",
    "plt.figure(figsize=(12,3))\n",
    "plt.subplot(141)\n",
    "%time mmfplt.imcontourf(x, y, z, cmap='gist_heat')\n",
    "plt.subplot(142)\n",
    "%time plt.contourf(x.ravel(), y.ravel(), z.T, 50, cmap='gist_heat')\n",
    "plt.subplot(143)\n",
    "%time plt.pcolor(x.ravel(), y.ravel(), z.T, cmap='gist_heat', shading='auto')\n",
    "plt.subplot(144)\n",
    "%time plt.pcolormesh(x.ravel(), y.ravel(), z.T, cmap='gist_heat', shading='auto')"
   ]
  },
  {
   "cell_type": "markdown",
   "metadata": {},
   "source": [
    "## Angular Variables"
   ]
  },
  {
   "cell_type": "markdown",
   "metadata": {},
   "source": [
    "A couple of tools are provided to visualize angular fields, such as the phase of a complex wavefunction."
   ]
  },
  {
   "cell_type": "code",
   "execution_count": 24,
   "metadata": {},
   "outputs": [
    {
     "data": {
      "image/png": "[encoded data removed]",
      "text/plain": [
       "<Figure size 648x144 with 4 Axes>"
      ]
     },
     "metadata": {
      "needs_background": "light"
     },
     "output_type": "display_data"
    }
   ],
   "source": [
    "%matplotlib inline\n",
    "from matplotlib import pyplot as plt\n",
    "import time\n",
    "import numpy as np\n",
    "from mmfutils import plot as mmfplt\n",
    "x = np.linspace(-1, 1, 100)[:, None]\n",
    "y = np.linspace(-1, 1, 200)[None, :]\n",
    "z = x + 1j*y\n",
    "\n",
    "plt.figure(figsize=(9,2))\n",
    "ax = plt.subplot(131)\n",
    "mmfplt.phase_contour(x, y, z, colors='k', linewidths=0.5)\n",
    "ax.set_aspect(1)\n",
    "\n",
    "# This is a little slow but allows you to vary the luminosity.\n",
    "ax = plt.subplot(132)\n",
    "mmfplt.imcontourf(x, y, mmfplt.colors.color_complex(z))\n",
    "mmfplt.phase_contour(x, y, z, linewidths=0.5)\n",
    "ax.set_aspect(1)\n",
    "\n",
    "# This is faster if you just want to show the phase and allows\n",
    "# for a colorbar via a registered colormap\n",
    "ax = plt.subplot(133)\n",
    "mmfplt.imcontourf(x, y, np.angle(z), cmap='huslp')\n",
    "ax.set_aspect(1)\n",
    "plt.colorbar()\n",
    "mmfplt.phase_contour(x, y, z, linewidths=0.5);"
   ]
  },
  {
   "cell_type": "markdown",
   "metadata": {},
   "source": [
    "## Debugging"
   ]
  },
  {
   "cell_type": "markdown",
   "metadata": {},
   "source": [
    "A couple of debugging tools are provided.  The most useful is the `debug` decorator which will store the local variables of a function in a dictionary or in your global scope."
   ]
  },
  {
   "cell_type": "code",
   "execution_count": 25,
   "metadata": {},
   "outputs": [
    {
     "name": "stdout",
     "output_type": "stream",
     "text": [
      "1.0 2.0 2.8284271247461903 1.0\n"
     ]
    }
   ],
   "source": [
    "from mmfutils.debugging import debug\n",
    "\n",
    "@debug(locals())\n",
    "def f(x):\n",
    "    y = x**1.5\n",
    "    z = 2/x\n",
    "    return z\n",
    "\n",
    "print(f(2.0), x, y, z)"
   ]
  },
  {
   "cell_type": "markdown",
   "metadata": {},
   "source": [
    "## Mathematics"
   ]
  },
  {
   "cell_type": "markdown",
   "metadata": {},
   "source": [
    "We include a few mathematical tools here too.  In particular, numerical integration and differentiation.  Check the API documentation for details."
   ]
  },
  {
   "cell_type": "markdown",
   "metadata": {},
   "source": [
    "# Developer Instructions"
   ]
  },
  {
   "cell_type": "markdown",
   "metadata": {},
   "source": [
    "If you are a developer of this package, there are a few things to be aware of.\n",
    "\n",
    "1. If you modify the notebooks in ``docs/notebooks`` then you may need to regenerate some of the ``.rst`` files and commit them so they appear on bitbucket.  This is done automatically by the ``pre-commit`` hook in ``.hgrc`` if you include this in your ``.hg/hgrc`` file with a line like:\n",
    "\n",
    "    ```\n",
    "    # %include ../.hgrc\n",
    "    ```\n",
    "\n",
    "**Security Warning:** if you do this, be sure to inspect the ``.hgrc`` file carefully to make sure that no one inserts malicious code.\n",
    "\n",
    "This runs the following code:"
   ]
  },
  {
   "cell_type": "code",
   "execution_count": 26,
   "metadata": {},
   "outputs": [
    {
     "name": "stdout",
     "output_type": "stream",
     "text": [
      "[NbConvertApp] Converting notebook doc/README.ipynb to rst\n",
      "[NbConvertApp] Support files will be in README_files/\n",
      "[NbConvertApp] Making directory doc/README_files\n",
      "[NbConvertApp] Making directory doc/README_files\n",
      "[NbConvertApp] Writing 52142 bytes to doc/README.rst\n"
     ]
    }
   ],
   "source": [
    "!cd $ROOTDIR; jupyter nbconvert --to=rst --output=README.rst doc/README.ipynb"
   ]
  },
  {
   "cell_type": "markdown",
   "metadata": {},
   "source": [
    "We also run a comprehensive set of tests, and the pre-commit hook will fail if any of these do not pass, or if we don't have complete code coverage.  We run these tests in a conda environment that can be made using the makefile:\n",
    "\n",
    "```bash\n",
    "make test   # nox\n",
    "```\n",
    "\n",
    "To run these manually in a specific environment, you could do:\n",
    "\n",
    "```bash\n",
    "cond activate _mmfutils\n",
    "pytest\n",
    "```"
   ]
  },
  {
   "cell_type": "markdown",
   "metadata": {},
   "source": [
    "Here is an example:"
   ]
  },
  {
   "cell_type": "code",
   "execution_count": null,
   "metadata": {},
   "outputs": [],
   "source": [
    "!cd $ROOTDIR; conda activate _mmfutils; pytest -n4"
   ]
  },
  {
   "cell_type": "markdown",
   "metadata": {},
   "source": [
    "Complete code coverage information is provided in ``build/_coverage/index.html``."
   ]
  },
  {
   "cell_type": "code",
   "execution_count": 28,
   "metadata": {},
   "outputs": [
    {
     "data": {
      "text/html": [
       "<!DOCTYPE html>\n",
       "<html>\n",
       "<head>\n",
       "    <meta http-equiv=\"Content-Type\" content=\"text/html; charset=utf-8\">\n",
       "    <title>Coverage report</title>\n",
       "    <link rel=\"icon\" sizes=\"32x32\" href=\"favicon_32.png\">\n",
       "    <link rel=\"stylesheet\" href=\"style.css\" type=\"text/css\">\n",
       "    <script type=\"text/javascript\" src=\"jquery.min.js\"></script>\n",
       "    <script type=\"text/javascript\" src=\"jquery.ba-throttle-debounce.min.js\"></script>\n",
       "    <script type=\"text/javascript\" src=\"jquery.tablesorter.min.js\"></script>\n",
       "    <script type=\"text/javascript\" src=\"jquery.hotkeys.js\"></script>\n",
       "    <script type=\"text/javascript\" src=\"coverage_html.js\"></script>\n",
       "    <script type=\"text/javascript\">\n",
       "        jQuery(document).ready(coverage.index_ready);\n",
       "    </script>\n",
       "</head>\n",
       "<body class=\"indexfile\">\n",
       "<div id=\"header\">\n",
       "    <div class=\"content\">\n",
       "        <h1>Coverage report:\n",
       "            <span class=\"pc_cov\">90%</span>\n",
       "        </h1>\n",
       "        <img id=\"keyboard_icon\" src=\"keybd_closed.png\" alt=\"Show keyboard shortcuts\" />\n",
       "        <form id=\"filter_container\">\n",
       "            <input id=\"filter\" type=\"text\" value=\"\" placeholder=\"filter...\" />\n",
       "        </form>\n",
       "    </div>\n",
       "</div>\n",
       "<div class=\"help_panel\">\n",
       "    <img id=\"panel_icon\" src=\"keybd_open.png\" alt=\"Hide keyboard shortcuts\" />\n",
       "    <p class=\"legend\">Hot-keys on this page</p>\n",
       "    <div>\n",
       "    <p class=\"keyhelp\">\n",
       "        <span class=\"key\">n</span>\n",
       "        <span class=\"key\">s</span>\n",
       "        <span class=\"key\">m</span>\n",
       "        <span class=\"key\">x</span>\n",
       "        <span class=\"key\">c</span> &nbsp; change column sorting\n",
       "    </p>\n",
       "    </div>\n",
       "</div>\n",
       "<div id=\"index\">\n",
       "    <table class=\"index\">\n",
       "        <thead>\n",
       "            <tr class=\"tablehead\" title=\"Click to sort\">\n",
       "                <th class=\"name left headerSortDown shortkey_n\">Module</th>\n",
       "                <th class=\"shortkey_s\">statements</th>\n",
       "                <th class=\"shortkey_m\">missing</th>\n",
       "                <th class=\"shortkey_x\">excluded</th>\n",
       "                <th class=\"right shortkey_c\">coverage</th>\n",
       "            </tr>\n",
       "        </thead>\n",
       "        <tfoot>\n",
       "            <tr class=\"total\">\n",
       "                <td class=\"name left\">Total</td>\n",
       "                <td>2209</td>\n",
       "                <td>213</td>\n",
       "                <td>85</td>\n",
       "                <td class=\"right\" data-ratio=\"1996 2209\">90%</td>\n",
       "            </tr>\n",
       "        </tfoot>\n",
       "        <tbody>\n",
       "            <tr class=\"file\">\n",
       "                <td class=\"name left\"><a href=\"mmfutils___init___py.html\">mmfutils/__init__.py</a></td>\n",
       "                <td>13</td>\n",
       "                <td>0</td>\n",
       "                <td>0</td>\n",
       "                <td class=\"right\" data-ratio=\"13 13\">100%</td>\n",
       "            </tr>\n",
       "            <tr class=\"file\">\n",
       "                <td class=\"name left\"><a href=\"mmfutils_containers_py.html\">mmfutils/containers.py</a></td>\n",
       "                <td>113</td>\n",
       "                <td>2</td>\n",
       "                <td>0</td>\n",
       "                <td class=\"right\" data-ratio=\"111 113\">98%</td>\n",
       "            </tr>\n",
       "            <tr class=\"file\">\n",
       "                <td class=\"name left\"><a href=\"mmfutils_contexts_py.html\">mmfutils/contexts.py</a></td>\n",
       "                <td>199</td>\n",
       "                <td>25</td>\n",
       "                <td>0</td>\n",
       "                <td class=\"right\" data-ratio=\"174 199\">87%</td>\n",
       "            </tr>\n",
       "            <tr class=\"file\">\n",
       "                <td class=\"name left\"><a href=\"mmfutils_debugging_py.html\">mmfutils/debugging.py</a></td>\n",
       "                <td>49</td>\n",
       "                <td>0</td>\n",
       "                <td>3</td>\n",
       "                <td class=\"right\" data-ratio=\"49 49\">100%</td>\n",
       "            </tr>\n",
       "            <tr class=\"file\">\n",
       "                <td class=\"name left\"><a href=\"mmfutils_interface_py.html\">mmfutils/interface.py</a></td>\n",
       "                <td>77</td>\n",
       "                <td>0</td>\n",
       "                <td>15</td>\n",
       "                <td class=\"right\" data-ratio=\"77 77\">100%</td>\n",
       "            </tr>\n",
       "            <tr class=\"file\">\n",
       "                <td class=\"name left\"><a href=\"mmfutils_math___init___py.html\">mmfutils/math/__init__.py</a></td>\n",
       "                <td>0</td>\n",
       "                <td>0</td>\n",
       "                <td>0</td>\n",
       "                <td class=\"right\" data-ratio=\"0 0\">100%</td>\n",
       "            </tr>\n",
       "            <tr class=\"file\">\n",
       "                <td class=\"name left\"><a href=\"mmfutils_math_bases___init___py.html\">mmfutils/math/bases/__init__.py</a></td>\n",
       "                <td>2</td>\n",
       "                <td>0</td>\n",
       "                <td>0</td>\n",
       "                <td class=\"right\" data-ratio=\"2 2\">100%</td>\n",
       "            </tr>\n",
       "            <tr class=\"file\">\n",
       "                <td class=\"name left\"><a href=\"mmfutils_math_bases_bases_py.html\">mmfutils/math/bases/bases.py</a></td>\n",
       "                <td>431</td>\n",
       "                <td>52</td>\n",
       "                <td>0</td>\n",
       "                <td class=\"right\" data-ratio=\"379 431\">88%</td>\n",
       "            </tr>\n",
       "            <tr class=\"file\">\n",
       "                <td class=\"name left\"><a href=\"mmfutils_math_bases_interfaces_py.html\">mmfutils/math/bases/interfaces.py</a></td>\n",
       "                <td>37</td>\n",
       "                <td>0</td>\n",
       "                <td>0</td>\n",
       "                <td class=\"right\" data-ratio=\"37 37\">100%</td>\n",
       "            </tr>\n",
       "            <tr class=\"file\">\n",
       "                <td class=\"name left\"><a href=\"mmfutils_math_bases_utils_py.html\">mmfutils/math/bases/utils.py</a></td>\n",
       "                <td>41</td>\n",
       "                <td>11</td>\n",
       "                <td>0</td>\n",
       "                <td class=\"right\" data-ratio=\"30 41\">73%</td>\n",
       "            </tr>\n",
       "            <tr class=\"file\">\n",
       "                <td class=\"name left\"><a href=\"mmfutils_math_bessel_py.html\">mmfutils/math/bessel.py</a></td>\n",
       "                <td>132</td>\n",
       "                <td>0</td>\n",
       "                <td>14</td>\n",
       "                <td class=\"right\" data-ratio=\"132 132\">100%</td>\n",
       "            </tr>\n",
       "            <tr class=\"file\">\n",
       "                <td class=\"name left\"><a href=\"mmfutils_math_differentiate_py.html\">mmfutils/math/differentiate.py</a></td>\n",
       "                <td>61</td>\n",
       "                <td>0</td>\n",
       "                <td>0</td>\n",
       "                <td class=\"right\" data-ratio=\"61 61\">100%</td>\n",
       "            </tr>\n",
       "            <tr class=\"file\">\n",
       "                <td class=\"name left\"><a href=\"mmfutils_math_integrate___init___py.html\">mmfutils/math/integrate/__init__.py</a></td>\n",
       "                <td>212</td>\n",
       "                <td>12</td>\n",
       "                <td>16</td>\n",
       "                <td class=\"right\" data-ratio=\"200 212\">94%</td>\n",
       "            </tr>\n",
       "            <tr class=\"file\">\n",
       "                <td class=\"name left\"><a href=\"mmfutils_math_linalg_py.html\">mmfutils/math/linalg.py</a></td>\n",
       "                <td>12</td>\n",
       "                <td>0</td>\n",
       "                <td>0</td>\n",
       "                <td class=\"right\" data-ratio=\"12 12\">100%</td>\n",
       "            </tr>\n",
       "            <tr class=\"file\">\n",
       "                <td class=\"name left\"><a href=\"mmfutils_math_special_py.html\">mmfutils/math/special.py</a></td>\n",
       "                <td>26</td>\n",
       "                <td>0</td>\n",
       "                <td>0</td>\n",
       "                <td class=\"right\" data-ratio=\"26 26\">100%</td>\n",
       "            </tr>\n",
       "            <tr class=\"file\">\n",
       "                <td class=\"name left\"><a href=\"mmfutils_math_wigner_py.html\">mmfutils/math/wigner.py</a></td>\n",
       "                <td>20</td>\n",
       "                <td>17</td>\n",
       "                <td>0</td>\n",
       "                <td class=\"right\" data-ratio=\"3 20\">15%</td>\n",
       "            </tr>\n",
       "            <tr class=\"file\">\n",
       "                <td class=\"name left\"><a href=\"mmfutils_optimize_py.html\">mmfutils/optimize.py</a></td>\n",
       "                <td>26</td>\n",
       "                <td>0</td>\n",
       "                <td>0</td>\n",
       "                <td class=\"right\" data-ratio=\"26 26\">100%</td>\n",
       "            </tr>\n",
       "            <tr class=\"file\">\n",
       "                <td class=\"name left\"><a href=\"mmfutils_parallel_py.html\">mmfutils/parallel.py</a></td>\n",
       "                <td>128</td>\n",
       "                <td>5</td>\n",
       "                <td>8</td>\n",
       "                <td class=\"right\" data-ratio=\"123 128\">96%</td>\n",
       "            </tr>\n",
       "            <tr class=\"file\">\n",
       "                <td class=\"name left\"><a href=\"mmfutils_performance___init___py.html\">mmfutils/performance/__init__.py</a></td>\n",
       "                <td>0</td>\n",
       "                <td>0</td>\n",
       "                <td>0</td>\n",
       "                <td class=\"right\" data-ratio=\"0 0\">100%</td>\n",
       "            </tr>\n",
       "            <tr class=\"file\">\n",
       "                <td class=\"name left\"><a href=\"mmfutils_performance_blas_py.html\">mmfutils/performance/blas.py</a></td>\n",
       "                <td>58</td>\n",
       "                <td>0</td>\n",
       "                <td>6</td>\n",
       "                <td class=\"right\" data-ratio=\"58 58\">100%</td>\n",
       "            </tr>\n",
       "            <tr class=\"file\">\n",
       "                <td class=\"name left\"><a href=\"mmfutils_performance_fft_py.html\">mmfutils/performance/fft.py</a></td>\n",
       "                <td>92</td>\n",
       "                <td>3</td>\n",
       "                <td>6</td>\n",
       "                <td class=\"right\" data-ratio=\"89 92\">97%</td>\n",
       "            </tr>\n",
       "            <tr class=\"file\">\n",
       "                <td class=\"name left\"><a href=\"mmfutils_performance_numexpr_py.html\">mmfutils/performance/numexpr.py</a></td>\n",
       "                <td>9</td>\n",
       "                <td>0</td>\n",
       "                <td>7</td>\n",
       "                <td class=\"right\" data-ratio=\"9 9\">100%</td>\n",
       "            </tr>\n",
       "            <tr class=\"file\">\n",
       "                <td class=\"name left\"><a href=\"mmfutils_performance_threads_py.html\">mmfutils/performance/threads.py</a></td>\n",
       "                <td>9</td>\n",
       "                <td>0</td>\n",
       "                <td>8</td>\n",
       "                <td class=\"right\" data-ratio=\"9 9\">100%</td>\n",
       "            </tr>\n",
       "            <tr class=\"file\">\n",
       "                <td class=\"name left\"><a href=\"mmfutils_plot___init___py.html\">mmfutils/plot/__init__.py</a></td>\n",
       "                <td>4</td>\n",
       "                <td>0</td>\n",
       "                <td>0</td>\n",
       "                <td class=\"right\" data-ratio=\"4 4\">100%</td>\n",
       "            </tr>\n",
       "            <tr class=\"file\">\n",
       "                <td class=\"name left\"><a href=\"mmfutils_plot_animation_py.html\">mmfutils/plot/animation.py</a></td>\n",
       "                <td>82</td>\n",
       "                <td>19</td>\n",
       "                <td>0</td>\n",
       "                <td class=\"right\" data-ratio=\"63 82\">77%</td>\n",
       "            </tr>\n",
       "            <tr class=\"file\">\n",
       "                <td class=\"name left\"><a href=\"mmfutils_plot_cmaps_py.html\">mmfutils/plot/cmaps.py</a></td>\n",
       "                <td>10</td>\n",
       "                <td>0</td>\n",
       "                <td>0</td>\n",
       "                <td class=\"right\" data-ratio=\"10 10\">100%</td>\n",
       "            </tr>\n",
       "            <tr class=\"file\">\n",
       "                <td class=\"name left\"><a href=\"mmfutils_plot_rasterize_py.html\">mmfutils/plot/rasterize.py</a></td>\n",
       "                <td>29</td>\n",
       "                <td>1</td>\n",
       "                <td>0</td>\n",
       "                <td class=\"right\" data-ratio=\"28 29\">97%</td>\n",
       "            </tr>\n",
       "            <tr class=\"file\">\n",
       "                <td class=\"name left\"><a href=\"mmfutils_solve___init___py.html\">mmfutils/solve/__init__.py</a></td>\n",
       "                <td>0</td>\n",
       "                <td>0</td>\n",
       "                <td>0</td>\n",
       "                <td class=\"right\" data-ratio=\"0 0\">100%</td>\n",
       "            </tr>\n",
       "            <tr class=\"file\">\n",
       "                <td class=\"name left\"><a href=\"mmfutils_solve_broyden_py.html\">mmfutils/solve/broyden.py</a></td>\n",
       "                <td>319</td>\n",
       "                <td>64</td>\n",
       "                <td>0</td>\n",
       "                <td class=\"right\" data-ratio=\"255 319\">80%</td>\n",
       "            </tr>\n",
       "            <tr class=\"file\">\n",
       "                <td class=\"name left\"><a href=\"mmfutils_testing_py.html\">mmfutils/testing.py</a></td>\n",
       "                <td>18</td>\n",
       "                <td>2</td>\n",
       "                <td>2</td>\n",
       "                <td class=\"right\" data-ratio=\"16 18\">89%</td>\n",
       "            </tr>\n",
       "        </tbody>\n",
       "    </table>\n",
       "    <p id=\"no_rows\">\n",
       "        No items found using the specified filter.\n",
       "    </p>\n",
       "</div>\n",
       "<div id=\"footer\">\n",
       "    <div class=\"content\">\n",
       "        <p>\n",
       "            <a class=\"nav\" href=\"https://coverage.readthedocs.io\">coverage.py v5.5</a>,\n",
       "            created at 2021-04-28 01:48 -0700\n",
       "        </p>\n",
       "    </div>\n",
       "</div>\n",
       "</body>\n",
       "</html>\n"
      ],
      "text/plain": [
       "<IPython.core.display.HTML object>"
      ]
     },
     "execution_count": 28,
     "metadata": {},
     "output_type": "execute_result"
    }
   ],
   "source": [
    "from IPython.display import HTML\n",
    "with open(os.path.join(ROOTDIR, 'build/_coverage/index.html')) as f:\n",
    "    coverage = f.read()\n",
    "HTML(coverage)"
   ]
  },
  {
   "cell_type": "markdown",
   "metadata": {},
   "source": [
    "## Releases"
   ]
  },
  {
   "cell_type": "markdown",
   "metadata": {},
   "source": [
    "We try to keep the repository clean with the following properties:\n",
    "\n",
    "1. The default branch is stable: i.e. if someone runs `hg clone`, this will pull the latest stable release.\n",
    "2. Each release has its own named branch so that e.g. `hg up 0.5.0` will get the right thing.  Note: this should update to the development branch, *not* the default branch so that any work committed will not pollute the development branch (which would violate the previous point).\n",
    "\n",
    "To do this, we advocate the following proceedure.\n",
    "\n",
    "1. **Update to Correct Branch**: Make sure this is the correct development branch, not the default branch by explicitly updating:\n",
    "\n",
    "    ```bash\n",
    "    hg up <version>\n",
    "    ```\n",
    "   \n",
    "    (Compare with `hg up default` which should take you to the default branch instead.)\n",
    "2. **Work**: Do your work, committing as required with messages as shown in the repository with the following keys:\n",
    "\n",
    "    * `DOC`: Documentation changes.\n",
    "    * `API`: Changes to the exising API.  This could break old code.\n",
    "    * `EHN`: Enhancement or new functionality. Without an `API` tag, these should not break existing codes.\n",
    "    * `BLD`: Build system changes (`setup.py`, `requirements.txt` etc.)\n",
    "    * `TST`: Update tests, code coverage, etc.\n",
    "    * `BUG`: Address an issue as filed on the issue tracker.\n",
    "    * `BRN`: Start a new branch (see below).\n",
    "    * `REL`: Release (see below).\n",
    "    * `WIP`: Work in progress.  Do not depend on these!  They will be stripped.  This is useful when testing things like the rendering of documentation on bitbucket etc. where you need to push an incomplete set of files.  Please collapse and strip these eventually when you get things working.\n",
    "    * `CHK`: Checkpoints.  These should not be pushed to bitbucket!\n",
    "3. **Tests**: Make sure the tests pass.  Comprehensive tests should be run with `nox`:\n",
    "   \n",
    "    ```bash\n",
    "    nox\n",
    "    ```\n",
    "   \n",
    "    Quick tests while developing can be run with the `_mmfutils` environment:\n",
    "   \n",
    "    ```bash\n",
    "    conda env update --file environment.yml\n",
    "    conda activate _mmfutils; pytest\n",
    "    ```\n",
    "\n",
    "    (`hg com` will automatically run tests after pip-installing everything in `setup.py` if you have linked the `.hgrc` file as discussed above, but the use of independent environments is preferred now.)\n",
    "4. **Update Docs**: Update the documentation if needed.  To generate new documentation run:\n",
    "\n",
    "    ```bash\n",
    "    cd doc\n",
    "    sphinx-apidoc -eTE ../mmfutils -o source\n",
    "    rm source/mmfutils.*tests*\n",
    "    ```\n",
    "   \n",
    "    * Include any changes at the bottom of this file (`doc/README.ipynb`).\n",
    "    * You may need to copy new figures to `README_files/` if the figure numbers have changed, and then `hg add` these while `hg rm` the old ones.\n",
    "   \n",
    "    Edit any new files created (titles often need to be added) and check that this looks good with\n",
    "  \n",
    "    ```bash\n",
    "    make html\n",
    "    open build/html/index.html\n",
    "    ```\n",
    "     \n",
    "    Look especially for errors of the type \"WARNING: document isn't included in any toctree\".  This indicates that you probably need to add the module to an upper level `.. toctree::`.  Also look for \"WARNING: toctree contains reference to document u'...' that doesn't have a title: no link will be generated\".  This indicates you need to add a title to a new file.  For example, when I added the `mmf.math.optimize` module, I needed to update the following:\n",
    "  \n",
    "[comment]: # (The rst generate is mucked up by this indented code block...)\n",
    "```rst\n",
    "   .. doc/source/mmfutils.rst\n",
    "   mmfutils\n",
    "   ========\n",
    "   \n",
    "   .. toctree::\n",
    "       ...\n",
    "       mmfutils.optimize\n",
    "       ...\n",
    "```   \n",
    "```rst\n",
    "   .. doc/source/mmfutils.optimize.rst\n",
    "   mmfutils.optimize\n",
    "   =================\n",
    "       \n",
    "   .. automodule:: mmfutils.optimize\n",
    "       :members:\n",
    "       :undoc-members:\n",
    "       :show-inheritance:\n",
    "```\n",
    "  \n",
    "5. **Clean up History**: Run `hg histedit`, `hg rebase`, or `hg strip` as needed to clean up the repo before you push.  Branches should generally be linear unless there is an exceptional reason to split development.\n",
    "6. **Release**: First edit `mmfutils/__init__.py` to update the version number by removing the `dev` part of the version number.  Commit only this change and then push only the branch you are working on:\n",
    "\n",
    "    ```bash\n",
    "    hg com -m \"REL: <version>\"\n",
    "    hg push -b .\n",
    "   ```\n",
    "7. **Pull Request**: Create a pull request on the development fork from your branch to `default` on the release project bitbucket. Review it, fix anything, then accept the PR and close the branch.\n",
    "8. **Publish on PyPI**: Publish the released version on [PyPI](https://pypi.org/project/mmfutils/) using [twine](https://pypi.org/project/twine/)\n",
    "\n",
    "    ```bash\n",
    "    # Build the package.\n",
    "    python setup.py sdist bdist_wheel\n",
    "    \n",
    "    # Test that everything looks right:\n",
    "    twine upload --repository-url https://test.pypi.org/legacy/ dist/*\n",
    "   \n",
    "    # Upload to PyPI\n",
    "    twine upload dist/*\n",
    "    ```\n",
    "\n",
    "9. **Build Conda Package**: This will run all the tests in a fresh environment as specified by `meta.yaml`.  Make sure that the dependencies in `meta.yaml`, `environment.yml`, and `setup.py` are consistent.  Note that the list of versions to be built is specified in `conda_build_config.yaml`.\n",
    "\n",
    "    ```bash\n",
    "    conda build .\n",
    "    conda build . --output   # Use this below\n",
    "    anaconda login\n",
    "    anaconda upload --all /data/apps/conda/conda-bld/noarch/mmfutils-0.5.0-py_0.tar.bz2\n",
    "    ```\n",
    "   \n",
    "10. **Start new branch**: On the same development branch (not `default`), increase the version number in `mmfutils/__init__.py` and add `dev`: i.e.:\n",
    "\n",
    "    ```python\n",
    "    __version__ = '0.5.1dev'\n",
    "    ```\n",
    "       \n",
    "    Then create this branch and commit this:\n",
    "  \n",
    "    ```bash\n",
    "    hg branch \"0.5.1\"\n",
    "    hg com -m \"BRN: Started branch 0.5.1\"\n",
    "    ```\n",
    "       \n",
    "11. Optional: Update any `setup.py` files that depend on your new features/fixes etc."
   ]
  },
  {
   "cell_type": "markdown",
   "metadata": {},
   "source": [
    "# Change Log"
   ]
  },
  {
   "cell_type": "markdown",
   "metadata": {},
   "source": [
    "## REL: 0.5.4"
   ]
  },
  {
   "cell_type": "markdown",
   "metadata": {},
   "source": [
    "* Drop support for Python 3.5.\n",
    "* Use [Nox](https://nox.thea.codes) for testing (see [Notes.md](../Notes.md))"
   ]
  },
  {
   "cell_type": "markdown",
   "metadata": {},
   "source": [
    "## REL: 0.5.3"
   ]
  },
  {
   "cell_type": "markdown",
   "metadata": {},
   "source": [
    "Allow Python 3.8.  Previous version required `python <= 3.7` due to an [issue with ipyparallel](https://github.com/ipython/ipyparallel/issues/396).  This has been resolved with revision 6.2.5 which is available with `conda`.\n"
   ]
  },
  {
   "cell_type": "markdown",
   "metadata": {},
   "source": [
    "## REL: 0.5.1"
   ]
  },
  {
   "cell_type": "markdown",
   "metadata": {},
   "source": [
    "API changes:\n",
    "\n",
    "* Split `mmfutils.containers.Object` into `ObjectBase` which is simple and `ObjectMixin` which provides the picking support.  Demonstrate in docs how the pickling can be useful, but slows copying."
   ]
  },
  {
   "cell_type": "markdown",
   "metadata": {},
   "source": [
    "## REL: 0.5.0"
   ]
  },
  {
   "cell_type": "markdown",
   "metadata": {},
   "source": [
    "API changes:\n",
    "\n",
    "* Python 3 support only.\n",
    "* `mmfutils.math.bases.interface` renamed to `mmfutils.math.bases.interfaces`.\n",
    "* Added default class-variable attribute support to e`mmfutils.containers.Object`.\n",
    "* Minor enhancements to `mmfutils.math.bases.PeriodicBasis` to enhance GPU support.\n",
    "* Added `mmfutils.math.bases.interfaces.IBasisLz` and support in `mmfutils.math.bases.bases.PeriodicBasis` for rotating frames.\n",
    "* Cleanup of build environment and tests.\n",
    "  * Single environment `_mmfutils` now used for testing and documentation."
   ]
  },
  {
   "cell_type": "markdown",
   "metadata": {},
   "source": [
    "## REL: 0.4.13"
   ]
  },
  {
   "cell_type": "markdown",
   "metadata": {},
   "source": [
    "API changes:\n",
    "\n",
    "* Use `@implementer()` class decorator rather than `classImplements` or `implements` in all interfaces.\n",
    "* Improve `NoInterrupt` context.  Added `NoInterrupt.unregister()`: this allows `NoInterrupt` to work in a notebook cell even when the signal handlers are reset.  (But only works in that one cell.)\n",
    "* Added Abel transform `integrate2` to Cylindrical bases.\n",
    "\n",
    "Issues:\n",
    "\n",
    "* Resolved issue #22: Masked arrays work with `imcontourf` etc.\n",
    "* Resolved issue #23: `NoInterrupt` works well except in notebooks due to [ipykernel issue #328](https://github.com/ipython/ipykernel/issues/328).\n",
    "* Resolved issue #24: Python 3 is now fully supported and tested."
   ]
  },
  {
   "cell_type": "markdown",
   "metadata": {},
   "source": [
    "## REL: 0.4.10"
   ]
  },
  {
   "cell_type": "markdown",
   "metadata": {},
   "source": [
    "API changes:\n",
    "\n",
    "* Added `contourf`, `error_line`, and `ListCollections` to `mmfutils.plot`.\n",
    "* Added Python 3 support (still a couple of issues such as `mmfutils.math.integrate.ssum_inline`.)\n",
    "* Added `mmf.math.bases.IBasisKx` and update `lagrangian` in bases to accept `k2` and `kx2` for modified dispersion control (along x).\n",
    "* Added `math.special.ellipkinv`.\n",
    "* Added some new `mmfutils.math.linalg` tools.\n",
    "\n",
    "Issues:\n",
    "\n",
    "* Resolved issue #20: `DyadicSum` and `scipy.optimize.nonlin.Jacobian`\n",
    "* Resolved issue #22: imcontourf now respects masked arrays.\n",
    "* Resolved issue #24: Support Python 3.\n"
   ]
  },
  {
   "cell_type": "markdown",
   "metadata": {},
   "source": [
    "## REL: 0.4.9"
   ]
  },
  {
   "cell_type": "markdown",
   "metadata": {},
   "source": [
    "*< incomplete >*"
   ]
  },
  {
   "cell_type": "markdown",
   "metadata": {},
   "source": [
    "## REL: 0.4.7"
   ]
  },
  {
   "cell_type": "markdown",
   "metadata": {},
   "source": [
    "API changes:\n",
    "\n",
    "* Added `mmfutils.interface.describe_interface()` for inserting interfaces into documentation.\n",
    "* Added some DVR basis code to `mmfutils.math.bases`.\n",
    "* Added a diverging colormap and some support in `mmfutils.plot`.\n",
    "* Added a Wigner Ville distribution computation in `mmfutils.math.wigner`\n",
    "* Added `mmfutils.optimize.usolve` and `ubrentq` for finding roots with [`uncertanties`](https://pythonhosted.org/uncertainties/) support.\n",
    "\n",
    "Issues:\n",
    "\n",
    "* Resolve issue #8: Use [`ipyparallel`](https://github.com/ipython/ipyparallel) now.\n",
    "* Resolve issue #9: Use [pytest](https://pytest.org) rather than `nose` (which is no longer supported).\n",
    "* Resolve issue #10: PYFFTW wrappers now support negative `axis` and `axes` arguments.\n",
    "* Address issue #11: Preliminary version of some DVR basis classes.\n",
    "* Resolve issue #12: Added solvers with [`uncertanties`](https://pythonhosted.org/uncertainties/) support."
   ]
  },
  {
   "cell_type": "code",
   "execution_count": null,
   "metadata": {},
   "outputs": [],
   "source": []
  }
 ],
 "metadata": {
  "anaconda-cloud": {},
  "jupytext": {
   "cell_metadata_json": true,
   "encoding": "# -*- coding: utf-8 -*-",
   "formats": "ipynb,py"
  },
  "kernelspec": {
   "display_name": "Python [conda env:_mmfutils]",
   "language": "python",
   "name": "conda-env-_mmfutils-py"
  },
  "language_info": {
   "codemirror_mode": {
    "name": "ipython",
    "version": 3
   },
   "file_extension": ".py",
   "mimetype": "text/x-python",
   "name": "python",
   "nbconvert_exporter": "python",
   "pygments_lexer": "ipython3",
   "version": "3.8.8"
  },
  "toc": {
   "base_numbering": 1,
   "nav_menu": {},
   "number_sections": true,
   "sideBar": false,
   "skip_h1_title": false,
   "title_cell": "Table of Contents",
   "title_sidebar": "Contents",
   "toc_cell": true,
   "toc_position": {
    "height": "323px",
    "left": "1px",
    "right": "1082px",
    "top": "106px",
    "width": "240px"
   },
   "toc_section_display": "block",
   "toc_window_display": false
  },
  "varInspector": {
   "cols": {
    "lenName": 16,
    "lenType": 16,
    "lenVar": 40
   },
   "kernels_config": {
    "python": {
     "delete_cmd_postfix": "",
     "delete_cmd_prefix": "del ",
     "library": "var_list.py",
     "varRefreshCmd": "print(var_dic_list())"
    },
    "r": {
     "delete_cmd_postfix": ") ",
     "delete_cmd_prefix": "rm(",
     "library": "var_list.r",
     "varRefreshCmd": "cat(var_dic_list()) "
    }
   },
   "types_to_exclude": [
    "module",
    "function",
    "builtin_function_or_method",
    "instance",
    "_Feature"
   ],
   "window_display": false
  }
 },
 "nbformat": 4,
 "nbformat_minor": 2
}
