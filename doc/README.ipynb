{
 "cells": [
  {
   "cell_type": "markdown",
   "id": "59a58ffe",
   "metadata": {},
   "source": [
    "# MMF Utils"
   ]
  },
  {
   "cell_type": "markdown",
   "id": "605718f4",
   "metadata": {
    "lines_to_next_cell": 2
   },
   "source": [
    "Small set of utilities: containers and interfaces.\n",
    "\n",
    "This package provides some utilities that I tend to rely on during development.  Presently it includes some convenience containers, plotting tools, and a patch for including [zope.interface](http://docs.zope.org/zope.interface/) documentation in a notebook.\n",
    "\n",
    "(Note: If this file does not render properly, try viewing it through [nbviewer.org](http://nbviewer.ipython.org/urls/bitbucket.org/mforbes/mmfutils-fork/raw/tip/doc/README.ipynb))\n",
    "\n",
    "**Documentation:**\n",
    "   http://mmfutils.readthedocs.org\n",
    "\n",
    "**Source:**\n",
    "\n",
    " * https://alum.mit.edu/www/mforbes/hg/forbes-group/mmfutils: Permalink (will forward).\n",
    " * https://hg.iscimath.org/forbes-group/mmfutils: Current, in case the permalink fails.\n",
    " * https://github.com/forbes-group/mmfutils: Public read-only mirror.\n",
    "\n",
    "**Issues:**\n",
    " https://alum.mit.edu/www/mforbes/hg/forbes-group/mmfutils/issues\n",
    "\n",
    "**Build Status**\n",
    "\n",
    "[![Documentation Status](https://readthedocs.org/projects/mmfutils/badge/?version=latest)](https://mmfutils.readthedocs.io/en/latest/?badge=latest)\n",
    "[![Build Status](https://cloud.drone.io/api/badges/forbes-group/mmfutils/status.svg)](https://cloud.drone.io/forbes-group/mmfutils)\n",
    "\n",
    "**Test Status**\n",
    "\n",
    "[![Python 3.9 test results][py3.9 badge]][py3.9 workflow]\n",
    "[![Python 3.10 test results][py3.10 badge]][py3.10 workflow]\n",
    "[![Python 3.11 test results][py3.11 badge]][py3.11 workflow]\n",
    "[![Python 3.12 test results][py3.12 badge]][py3.12 workflow]\n",
    "[![Python 3.13 test results][py3.13 badge]][py3.13 workflow]\n",
    "\n",
    "[py3.9 badge]: <https://img.shields.io/github/actions/workflow/status/forbes-group/mmfutils/python_3.9.yaml?label=3.9&logo=GitHub>\n",
    "[py3.10 badge]: <https://img.shields.io/github/actions/workflow/status/forbes-group/mmfutils/python_3.10.yaml?label=3.10&logo=GitHub>\n",
    "[py3.11 badge]: <https://img.shields.io/github/actions/workflow/status/forbes-group/mmfutils/python_3.11.yaml?label=3.11&logo=GitHub>\n",
    "[py3.12 badge]: <https://img.shields.io/github/actions/workflow/status/forbes-group/mmfutils/python_3.12.yaml?label=3.12&logo=GitHub>\n",
    "[py3.13 badge]: <https://img.shields.io/github/actions/workflow/status/forbes-group/mmfutils/python_3.13.yaml?label=3.13&logo=GitHub>\n",
    "\n",
    "[py3.9 workflow]: <https://github.com/forbes-group/mmfutils/actions/workflows/python_3.9.yaml>\n",
    "[py3.10 workflow]: <https://github.com/forbes-group/mmfutils/actions/workflows/python_3.10.yaml>\n",
    "[py3.11 workflow]: <https://github.com/forbes-group/mmfutils/actions/workflows/python_3.11.yaml>\n",
    "[py3.12 workflow]: <https://github.com/forbes-group/mmfutils/actions/workflows/python_3.12.yaml>\n",
    "[py3.13 workflow]: <https://github.com/forbes-group/mmfutils/actions/workflows/python_3.13.yaml>"
   ]
  },
  {
   "cell_type": "markdown",
   "id": "72d85aed",
   "metadata": {},
   "source": [
    "## Installing"
   ]
  },
  {
   "cell_type": "markdown",
   "id": "c7bb67fd",
   "metadata": {},
   "source": [
    "This package can be installed from [PyPI](https://pypi.org/project/mmfutils/):\n",
    "\n",
    "```bash\n",
    "python3 -m pip install mmfutils\n",
    "python3 -m pip install mmfutils[fftw]   # If you have the FFTW libraries installed\n",
    "```\n",
    "\n",
    "or, if you need to install from source, you can get it from one of the repositories:\n",
    "\n",
    "```bash\n",
    "python3 -m pip install hg+https://alum.mit.edu/www/mforbes/hg/forbes-group/mmfutils\n",
    "python3 -m pip install git+https://github.com/forbes-group/mmfutils\n",
    "```"
   ]
  },
  {
   "cell_type": "markdown",
   "id": "6bf4f89d",
   "metadata": {},
   "source": [
    "# Usage"
   ]
  },
  {
   "cell_type": "markdown",
   "id": "66a1d058",
   "metadata": {},
   "source": [
    "## Containers"
   ]
  },
  {
   "cell_type": "markdown",
   "id": "6b69e712",
   "metadata": {},
   "source": [
    "### ObjectBase and Object"
   ]
  },
  {
   "cell_type": "markdown",
   "id": "50293acf",
   "metadata": {},
   "source": [
    "The `ObjectBase` and `Object` classes provide some useful features described below. Consider a problem where a class is defined through a few parameters, but requires extensive initialization before it can be properly used.  An example is a numerical simulation where one passes the number of grid points $N$ and a length $L$, but the initialization must generate large grids for efficient use later on.  These grids should be generated before computations begin, but should not be re-generated every time needed.  They also should not be pickled when saved to disk.\n",
    "\n",
    "**Deferred initialization via the `init()` method:** The idea here changes the semantics of `__init__()` slightly by deferring any expensive initialization to `init()`.  Under this scheme, `__init__()` should only set and check what we call picklable attributes: these are parameters that define the object (they will be pickled in `Object` below) and will be stored in a list `self.picklable_attributes` which is computed at the end of `ObjectBase.__init__()` as the list of all keys in `__dict__`.  Then, `ObjectBase.__init__()` will call `init()` where all remaining attributes should be calculated.\n",
    "\n",
    "This allows users to change various attributes, then reinitialize the object once with an explicit call to `init()` before performing expensive computations.  This is an alternative to providing complete properties (getters and setters) for objects that need to trigger computation.  The use of setters is safer, but requires more work on the side of the developer and can lead to complex code when different properties depend on each other.  The approach here puts all computations in a single place.  Of course, the user must remember to call `init()` before working with the object.\n",
    "\n",
    "To facilitate this, we provide a mild check in the form of an `initialized` flag that is set to `True` at the end of the base `init()` chain, and set to `False` if any variables are in `pickleable_attributes` are set.\n",
    "\n",
    "**Serialization and Deferred Initialization:**\n",
    "The base class `ObjectBase` does not provide any pickling services but does provide a nice representation.  Additional functionality is provided by `Object` which uses the features of `ObjectBase` to define `__getstate__()` and `__setstate__()` methods for pickling which pickle only the `picklable_attributes`.  Note: unpickling an object will **not** call `__init__()` but will call `init()` giving objects a chance to restore the computed attributes from pickles.\n",
    "\n",
    "* **Note:** *Before using, consider if these features are really needed – with all such added functionality comes additional potential failure modes from side-interactions. The `ObjectBase` class is quite simple, and therefore quite safe, while `Object` adds additional functionality with potential side-effects.  For example, a side-effect of support for pickles is that `copy.copy()` will also invoke `init()` when copying might instead be much faster.  Thus, we recommend only using `ObjectBase` for efficient code.*"
   ]
  },
  {
   "cell_type": "markdown",
   "id": "cc76c50a",
   "metadata": {},
   "source": [
    "#### Object Example"
   ]
  },
  {
   "cell_type": "code",
   "execution_count": null,
   "id": "29098aea",
   "metadata": {},
   "outputs": [],
   "source": [
    "ROOTDIR = !hg root\n",
    "ROOTDIR = ROOTDIR[0]\n",
    "import sys\n",
    "\n",
    "sys.path.insert(0, ROOTDIR)\n",
    "\n",
    "import numpy as np\n",
    "\n",
    "from mmfutils.containers import ObjectBase, ObjectMixin\n",
    "\n",
    "\n",
    "class State(ObjectBase):\n",
    "    _quiet = False\n",
    "\n",
    "    def __init__(self, N, L=1.0, **kw):\n",
    "        \"\"\"Set all of the picklable parameters, in this case, N and L.\"\"\"\n",
    "        self.N = N\n",
    "        self.L = L\n",
    "\n",
    "        # Now register these and call init()\n",
    "        super().__init__(**kw)\n",
    "        if not self._quiet:\n",
    "            print(\"__init__() called\")\n",
    "\n",
    "    def init(self):\n",
    "        \"\"\"All additional initializations\"\"\"\n",
    "        if not self._quiet:\n",
    "            print(\"init() called\")\n",
    "        dx = self.L / self.N\n",
    "        self.x = np.arange(self.N, dtype=float) * dx - self.L / 2.0\n",
    "        self.k = 2 * np.pi * np.fft.fftfreq(self.N, dx)\n",
    "\n",
    "        # Set highest momentum to zero if N is even to\n",
    "        # avoid rapid oscillations\n",
    "        if self.N % 2 == 0:\n",
    "            self.k[self.N // 2] = 0.0\n",
    "\n",
    "        # Calls base class which sets self.initialized\n",
    "        super().init()\n",
    "\n",
    "    def compute_derivative(self, f):\n",
    "        \"\"\"Return the derivative of f.\"\"\"\n",
    "        return np.fft.ifft(self.k * 1j * np.fft.fft(f)).real\n",
    "\n",
    "\n",
    "s = State(256)\n",
    "print(s)  # No default value for L"
   ]
  },
  {
   "cell_type": "code",
   "execution_count": null,
   "id": "b91fa488",
   "metadata": {},
   "outputs": [],
   "source": [
    "s.L = 2.0\n",
    "print(s)"
   ]
  },
  {
   "cell_type": "markdown",
   "id": "30d1a8d8",
   "metadata": {},
   "source": [
    "One feature is that a nice ``repr()`` of the object is produced.  Now let's do a calculation:"
   ]
  },
  {
   "cell_type": "code",
   "execution_count": null,
   "id": "78acb850",
   "metadata": {},
   "outputs": [],
   "source": [
    "f = np.exp(3 * np.cos(2 * np.pi * s.x / s.L)) / 15\n",
    "df = (\n",
    "    -2.0\n",
    "    * np.pi\n",
    "    / 5.0\n",
    "    * np.exp(3 * np.cos(2 * np.pi * s.x / s.L))\n",
    "    * np.sin(2 * np.pi * s.x / s.L)\n",
    "    / s.L\n",
    ")\n",
    "np.allclose(s.compute_derivative(f), df)"
   ]
  },
  {
   "cell_type": "markdown",
   "id": "7cb5f1fa",
   "metadata": {},
   "source": [
    "Oops!  We forgot to reinitialize the object... (The formula is correct, but the lattice is no longer commensurate so the FFT derivative has huge errors)."
   ]
  },
  {
   "cell_type": "code",
   "execution_count": null,
   "id": "7803c75f",
   "metadata": {
    "lines_to_next_cell": 2
   },
   "outputs": [],
   "source": [
    "print(s.initialized)\n",
    "s.init()\n",
    "assert s.initialized\n",
    "f = np.exp(3 * np.cos(2 * np.pi * s.x / s.L)) / 15\n",
    "df = (\n",
    "    -2.0\n",
    "    * np.pi\n",
    "    / 5.0\n",
    "    * np.exp(3 * np.cos(2 * np.pi * s.x / s.L))\n",
    "    * np.sin(2 * np.pi * s.x / s.L)\n",
    "    / s.L\n",
    ")\n",
    "np.allclose(s.compute_derivative(f), df)"
   ]
  },
  {
   "cell_type": "markdown",
   "id": "2d5fab0b",
   "metadata": {
    "lines_to_next_cell": 2
   },
   "source": [
    "Here we demonstrate pickling.  Note that using `Object` makes the pickles very small, and when unpickled, ``init()`` is called to re-establish ``s.x`` and ``s.k``.  Generally one would inherit from `Object`, but since we already have a class, we can provide pickling functionality with `ObjectMixin`:"
   ]
  },
  {
   "cell_type": "code",
   "execution_count": null,
   "id": "8f8b9db0",
   "metadata": {},
   "outputs": [],
   "source": [
    "class State1(ObjectMixin, State):\n",
    "    pass\n",
    "\n",
    "\n",
    "s = State(N=256, _quiet=True)\n",
    "s1 = State1(N=256, _quiet=True)"
   ]
  },
  {
   "cell_type": "code",
   "execution_count": null,
   "id": "82c0d141",
   "metadata": {},
   "outputs": [],
   "source": [
    "import pickle, copy"
   ]
  },
  {
   "cell_type": "code",
   "execution_count": null,
   "id": "1ece956e",
   "metadata": {},
   "outputs": [],
   "source": [
    "s_repr = pickle.dumps(s)\n",
    "s1_repr = pickle.dumps(s1)\n",
    "print(f\"ObjectBase pickle:  {len(s_repr)} bytes\")\n",
    "print(f\"ObjectMixin pickle: {len(s1_repr)} bytes\")"
   ]
  },
  {
   "cell_type": "markdown",
   "id": "75b3d54e",
   "metadata": {},
   "source": [
    "Note, however, that the speed of copying is significantly impacted:"
   ]
  },
  {
   "cell_type": "code",
   "execution_count": null,
   "id": "c9e7ed32",
   "metadata": {},
   "outputs": [],
   "source": [
    "%timeit copy.copy(s)\n",
    "%timeit copy.copy(s1)"
   ]
  },
  {
   "cell_type": "markdown",
   "id": "cbceea27",
   "metadata": {},
   "source": [
    "Another use case applies when ``init()`` is expensive.  If $x$ and $k$ were computed in ``__init__()``, then using properties to change both $N$ and $L$ would trigger two updates.  Here we do the updates, then call ``init()``.  Good practice is to call ``init()`` automatically before any serious calculation to ensure that the object is brought up to date before the computation."
   ]
  },
  {
   "cell_type": "code",
   "execution_count": null,
   "id": "361f6334",
   "metadata": {},
   "outputs": [],
   "source": [
    "s.N = 64\n",
    "s.L = 2.0\n",
    "s.init()"
   ]
  },
  {
   "cell_type": "markdown",
   "id": "dfbe5f27",
   "metadata": {},
   "source": [
    "Finally, we demonstrate that ``Object`` instances can be archived using the ``persist`` package:"
   ]
  },
  {
   "cell_type": "code",
   "execution_count": null,
   "id": "6075f564",
   "metadata": {},
   "outputs": [],
   "source": [
    "import persist.archive\n",
    "\n",
    "a = persist.archive.Archive(check_on_insert=True)\n",
    "a.insert(s=s)\n",
    "\n",
    "d = {}\n",
    "exec(str(a), d)\n",
    "\n",
    "d[\"s\"]"
   ]
  },
  {
   "cell_type": "markdown",
   "id": "a7f1a217",
   "metadata": {},
   "source": [
    "### Container"
   ]
  },
  {
   "cell_type": "markdown",
   "id": "f8f72344",
   "metadata": {},
   "source": [
    "The ``Container`` object is a slight extension of ``Object`` that provides a simple container for storing data with attribute and iterative access. These implement some of the [Collections Abstract Base Classes from the python standard library](https://docs.python.org/2/library/collections.html#collections-abstract-base-classes). The following containers are provided:\n",
    "\n",
    "- ``Container``: Bare-bones container extending the ``Sized``, ``Iterable``, and ``Container`` abstract ase classes (ABCs) from the standard ``containers`` library.\n",
    "- ``ContainerList``: Extension that acts like a tuple/list satisfying the ``Sequence`` ABC from the ``containers`` library (but not the ``MutableSequence`` ABC.  Although we allow setting and deleting items, we do not provide a way for insertion, which breaks this interface.)\n",
    "- ``ContainerDict``: Extension that acts like a dict satisfying the ``MutableMapping`` ABC from the ``containers`` library.\n",
    "\n",
    "These were designed with the following use cases in mind:\n",
    "\n",
    "- Returning data from a function associating names with each data.  The resulting ``ContainerList`` will act like a tuple, but will support attribute access.  Note that the order will be lexicographic.  One could use a dictionary, but attribute access with tab completion is much nicer in an interactive session.  The ``containers.nametuple`` generator could also be used, but this is somewhat more complicated (though might be faster).  Also, named tuples are immutable - here we provide a mutable object that is picklable etc.  The choice between ``ContainerList`` and ``ContainerDict`` will depend on subsequent usage.  Containers can be converted from one type to another."
   ]
  },
  {
   "cell_type": "markdown",
   "id": "ddf061dd",
   "metadata": {},
   "source": [
    "#### Container Examples"
   ]
  },
  {
   "cell_type": "code",
   "execution_count": null,
   "id": "1a2a3c4a",
   "metadata": {},
   "outputs": [],
   "source": [
    "from mmfutils.containers import Container\n",
    "\n",
    "c = Container(a=1, c=2, b=\"Hi there\")\n",
    "print(c)\n",
    "print(tuple(c))"
   ]
  },
  {
   "cell_type": "code",
   "execution_count": null,
   "id": "2e0fcb80",
   "metadata": {},
   "outputs": [],
   "source": [
    "# Attributes are mutable\n",
    "c.b = \"Ho there\"\n",
    "print(c)"
   ]
  },
  {
   "cell_type": "code",
   "execution_count": null,
   "id": "9d6ac3b3",
   "metadata": {},
   "outputs": [],
   "source": [
    "# Other attributes can be used for temporary storage but will not be pickled.\n",
    "import numpy as np\n",
    "\n",
    "c.large_temporary_array = np.ones((256, 256))\n",
    "print(c)\n",
    "print(c.large_temporary_array)"
   ]
  },
  {
   "cell_type": "code",
   "execution_count": null,
   "id": "ff504c1f",
   "metadata": {},
   "outputs": [],
   "source": [
    "import pickle"
   ]
  },
  {
   "cell_type": "code",
   "execution_count": null,
   "id": "856eba3b",
   "metadata": {},
   "outputs": [],
   "source": [
    "c1 = pickle.loads(pickle.dumps(c))\n",
    "print(c1)\n",
    "c1.large_temporary_array"
   ]
  },
  {
   "cell_type": "markdown",
   "id": "6c5c7550",
   "metadata": {},
   "source": [
    "## Contexts"
   ]
  },
  {
   "cell_type": "markdown",
   "id": "322f4d15",
   "metadata": {},
   "source": [
    "The ``mmfutils.contexts`` module provides two useful contexts:\n",
    "\n",
    "``NoInterrupt``: This can be used to susspend ``KeyboardInterrupt`` exceptions until they can be dealt with at a point that is convenient.  A typical use is when performing a series of calculations in a loop.  By placing the loop in a ``NoInterrupt`` context, one can avoid an interrupt from ruining a calculation:"
   ]
  },
  {
   "cell_type": "code",
   "execution_count": null,
   "id": "575bc20f",
   "metadata": {},
   "outputs": [],
   "source": [
    "from mmfutils.contexts import NoInterrupt\n",
    "\n",
    "complete = False\n",
    "n = 0\n",
    "with NoInterrupt() as interrupted:\n",
    "    while not complete and not interrupted:\n",
    "        n += 1\n",
    "        if n > 10:\n",
    "            complete = True"
   ]
  },
  {
   "cell_type": "markdown",
   "id": "213ddf3b",
   "metadata": {},
   "source": [
    "Note: One can nest ``NoInterrupt`` contexts so that outer loops are also interrupted.  Another use-case is mapping.  See [doc/Animation.ipynb](Animation.ipynb) for more examples."
   ]
  },
  {
   "cell_type": "code",
   "execution_count": null,
   "id": "3f897a85",
   "metadata": {},
   "outputs": [],
   "source": [
    "res = NoInterrupt().map(abs, range(-100, 100))\n",
    "np.sign(res)"
   ]
  },
  {
   "cell_type": "markdown",
   "id": "ce9fc8b2",
   "metadata": {},
   "source": [
    "## Interfaces"
   ]
  },
  {
   "cell_type": "markdown",
   "id": "f60fa0a4",
   "metadata": {},
   "source": [
    "The interfaces module collects some useful [zope.interface](http://docs.zope.org/zope.interface/) tools for checking interface requirements.  Interfaces provide a convenient way of communicating to a programmer what needs to be done to used your code.  This can then be checked in tests."
   ]
  },
  {
   "cell_type": "code",
   "execution_count": null,
   "id": "e5a3ab0f",
   "metadata": {
    "lines_to_end_of_cell_marker": 2
   },
   "outputs": [],
   "source": [
    "from mmfutils.interface import (\n",
    "    Interface,\n",
    "    Attribute,\n",
    "    verifyClass,\n",
    "    verifyObject,\n",
    "    implementer,\n",
    ")\n",
    "\n",
    "\n",
    "class IAdder(Interface):\n",
    "    \"\"\"Interface for objects that support addition.\"\"\"\n",
    "\n",
    "    value = Attribute(\"value\", \"Current value of object\")\n",
    "\n",
    "    # No self here since this is the \"user\" interface\n",
    "    def add(other):\n",
    "        \"\"\"Return self + other.\"\"\""
   ]
  },
  {
   "cell_type": "markdown",
   "id": "54bd673f",
   "metadata": {
    "lines_to_next_cell": 2
   },
   "source": [
    "Here is a broken implementation. We muck up the arguments to ``add``:"
   ]
  },
  {
   "cell_type": "code",
   "execution_count": null,
   "id": "3d29143f",
   "metadata": {},
   "outputs": [],
   "source": [
    "@implementer(IAdder)\n",
    "class AdderBroken(object):\n",
    "    def add(self, one, another):\n",
    "        # There should only be one argument!\n",
    "        return one + another\n",
    "\n",
    "\n",
    "try:\n",
    "    verifyClass(IAdder, AdderBroken)\n",
    "except Exception as e:\n",
    "    print(\"{0.__class__.__name__}: {0}\".format(e))\n"
   ]
  },
  {
   "cell_type": "markdown",
   "id": "632181f7",
   "metadata": {
    "lines_to_next_cell": 2
   },
   "source": [
    "Now we get ``add`` right, but forget to define ``value``.  This is only caught when we have an object since the attribute is supposed to be defined in ``__init__()``:"
   ]
  },
  {
   "cell_type": "code",
   "execution_count": null,
   "id": "17233481",
   "metadata": {
    "lines_to_end_of_cell_marker": 2
   },
   "outputs": [],
   "source": [
    "@implementer(IAdder)\n",
    "class AdderBroken(object):\n",
    "    def add(self, other):\n",
    "        return one + other\n",
    "\n",
    "\n",
    "# The class validates...\n",
    "verifyClass(IAdder, AdderBroken)\n",
    "\n",
    "# ... but objects are missing the value Attribute\n",
    "try:\n",
    "    verifyObject(IAdder, AdderBroken())\n",
    "except Exception as e:\n",
    "    print(\"{0.__class__.__name__}: {0}\".format(e))"
   ]
  },
  {
   "cell_type": "markdown",
   "id": "fb6f7673",
   "metadata": {
    "lines_to_next_cell": 2
   },
   "source": [
    "Finally, a working instance:"
   ]
  },
  {
   "cell_type": "code",
   "execution_count": null,
   "id": "50da2e49",
   "metadata": {},
   "outputs": [],
   "source": [
    "@implementer(IAdder)\n",
    "class Adder(object):\n",
    "    def __init__(self, value=0):\n",
    "        self.value = value\n",
    "\n",
    "    def add(self, other):\n",
    "        return one + other\n",
    "\n",
    "\n",
    "verifyClass(IAdder, Adder) and verifyObject(IAdder, Adder())"
   ]
  },
  {
   "cell_type": "markdown",
   "id": "9d2a54d8",
   "metadata": {},
   "source": [
    "### Interface Documentation"
   ]
  },
  {
   "cell_type": "markdown",
   "id": "f772c1c1",
   "metadata": {},
   "source": [
    "We also monkeypatch ``zope.interface.documentation.asStructuredText()`` to provide a mechanism for documentating interfaces in a notebook."
   ]
  },
  {
   "cell_type": "code",
   "execution_count": null,
   "id": "4ae40b89",
   "metadata": {},
   "outputs": [],
   "source": [
    "from mmfutils.interface import describe_interface"
   ]
  },
  {
   "cell_type": "code",
   "execution_count": null,
   "id": "c4339b77",
   "metadata": {},
   "outputs": [],
   "source": [
    "describe_interface(IAdder)"
   ]
  },
  {
   "cell_type": "markdown",
   "id": "b62d5fd0",
   "metadata": {},
   "source": [
    "## Parallel"
   ]
  },
  {
   "cell_type": "markdown",
   "id": "90a610d6",
   "metadata": {},
   "source": [
    "The ``mmfutils.parallel`` module provides some tools for launching and connecting to IPython clusters.  The ``parallel.Cluster`` class represents and controls a cluster.  The cluster is specified by the profile name, and can be started or stopped from this class:"
   ]
  },
  {
   "cell_type": "code",
   "execution_count": null,
   "id": "7cadd460",
   "metadata": {},
   "outputs": [],
   "source": [
    "import logging"
   ]
  },
  {
   "cell_type": "code",
   "execution_count": null,
   "id": "78bd854d",
   "metadata": {},
   "outputs": [],
   "source": [
    "logger = logging.getLogger()\n",
    "logger.setLevel(logging.INFO)\n",
    "import numpy as np\n",
    "from mmfutils import parallel"
   ]
  },
  {
   "cell_type": "code",
   "execution_count": null,
   "id": "1412f026",
   "metadata": {},
   "outputs": [],
   "source": [
    "cluster = parallel.Cluster(profile=\"default\", n=3, sleep_time=1.0)\n",
    "cluster.start()\n",
    "cluster.wait()  # Instance of IPython.parallel.Client\n",
    "view = cluster.load_balanced_view\n",
    "x = np.linspace(-6, 6, 100)\n",
    "y = view.map(lambda x: x**2, x)\n",
    "print(np.allclose(y, x**2))\n",
    "cluster.stop()"
   ]
  },
  {
   "cell_type": "markdown",
   "id": "b3e96364",
   "metadata": {},
   "source": [
    "If you only need a cluster for a single task, it can be managed with a context.  Be sure to wait for the result to be computed before exiting the context and shutting down the cluster!"
   ]
  },
  {
   "cell_type": "code",
   "execution_count": null,
   "id": "4dd5e701",
   "metadata": {},
   "outputs": [],
   "source": [
    "with parallel.Cluster(profile=\"default\", n=3, sleep_time=1.0) as client:\n",
    "    view = client.load_balanced_view\n",
    "    x = np.linspace(-6, 6, 100)\n",
    "    y = view.map(lambda x: x**2, x, block=True)  # Make sure to wait for the result!\n",
    "print(np.allclose(y, x**2))"
   ]
  },
  {
   "cell_type": "markdown",
   "id": "2433d559",
   "metadata": {},
   "source": [
    "If you just need to connect to a running cluster, you can use ``parallel.get_client()``."
   ]
  },
  {
   "cell_type": "markdown",
   "id": "48a8ef5a",
   "metadata": {},
   "source": [
    "## Performance"
   ]
  },
  {
   "cell_type": "markdown",
   "id": "ebb1f0c3",
   "metadata": {},
   "source": [
    "The ``mmfutils.performance`` module provides some tools for high performance computing.  Note: this module requires some additional packages including [numexp](https://github.com/pydata/numexpr/wiki/Numexpr-Users-Guide), [pyfftw](http://hgomersall.github.io/pyFFTW/), and the ``mkl`` package installed by anaconda.  Some of these require building system libraries (i.e. the [FFTW](http://www.fftw.org)).  However, the various components will not be imported by default.\n",
    "\n",
    "Here is a brief description of the components:\n",
    "\n",
    "* ``mmfutils.performance.blas``: Provides an interface to a few of the scipy BLAS wrappers.  Very incomplete (only things I currently need).\n",
    "* ``mmfutils.performance.fft``: Provides an interface to the [FFTW](http://www.fftw.org) using ``pyfftw`` if it is available.  Also enables the planning cache and setting threads so you can better control your performance.\n",
    "* ``mmfutils.performance.numexpr``: Robustly imports numexpr and disabling the VML.  (If you don't do this carefully, it will crash your program so fast you won't even get a traceback.)\n",
    "* ``mmfutils.performance.threads``: Provides some hooks for setting the maximum number of threads in a bunch of places including the MKL, numexpr, and fftw."
   ]
  },
  {
   "cell_type": "markdown",
   "id": "9804e51a",
   "metadata": {},
   "source": [
    "## Plotting"
   ]
  },
  {
   "cell_type": "markdown",
   "id": "c97fbfea",
   "metadata": {},
   "source": [
    "Several tools are provided in `mmfutils.plot`:"
   ]
  },
  {
   "cell_type": "markdown",
   "id": "68634bda",
   "metadata": {},
   "source": [
    "### Fast Filled Contour Plots"
   ]
  },
  {
   "cell_type": "markdown",
   "id": "c04439d9",
   "metadata": {},
   "source": [
    "`mmfutils.plot.imcontourf` is similar to matplotlib's `plt.contourf` function, but uses `plt.imshow` which is much faster.  This is useful for animations and interactive work.  It also supports my idea of saner array-shape processing (i.e. if `x` and `y` have different shapes, then it will match these to the shape of `z`).  Matplotlib now provides `plt.pcolourmesh` which is similar, but has the same interface issues."
   ]
  },
  {
   "cell_type": "code",
   "execution_count": null,
   "id": "f4d902f7",
   "metadata": {},
   "outputs": [],
   "source": [
    "%matplotlib inline\n",
    "from matplotlib import pyplot as plt\n",
    "import time\n",
    "import numpy as np\n",
    "from mmfutils import plot as mmfplt"
   ]
  },
  {
   "cell_type": "code",
   "execution_count": null,
   "id": "a6c5ac7d",
   "metadata": {},
   "outputs": [],
   "source": [
    "x = np.linspace(-1, 1, 100)[:, None] ** 3\n",
    "y = np.linspace(-0.1, 0.1, 200)[None, :] ** 3\n",
    "z = np.sin(10 * x) * y**2\n",
    "plt.figure(figsize=(12, 3))\n",
    "plt.subplot(141)\n",
    "%time mmfplt.imcontourf(x, y, z, cmap='gist_heat')\n",
    "plt.subplot(142)\n",
    "%time plt.contourf(x.ravel(), y.ravel(), z.T, 50, cmap='gist_heat')\n",
    "plt.subplot(143)\n",
    "%time plt.pcolor(x.ravel(), y.ravel(), z.T, cmap='gist_heat', shading='auto')\n",
    "plt.subplot(144)\n",
    "%time plt.pcolormesh(x.ravel(), y.ravel(), z.T, cmap='gist_heat', shading='gouraud')"
   ]
  },
  {
   "cell_type": "markdown",
   "id": "a512254a",
   "metadata": {},
   "source": [
    "## Angular Variables"
   ]
  },
  {
   "cell_type": "markdown",
   "id": "a4569c7a",
   "metadata": {},
   "source": [
    "A couple of tools are provided to visualize angular fields, such as the phase of a complex wavefunction."
   ]
  },
  {
   "cell_type": "code",
   "execution_count": null,
   "id": "ae02247f",
   "metadata": {},
   "outputs": [],
   "source": [
    "%matplotlib inline\n",
    "from matplotlib import pyplot as plt\n",
    "import time\n",
    "import numpy as np\n",
    "from mmfutils import plot as mmfplt\n",
    "\n",
    "x = np.linspace(-1, 1, 100)[:, None]\n",
    "y = np.linspace(-1, 1, 200)[None, :]\n",
    "z = x + 1j * y\n",
    "\n",
    "plt.figure(figsize=(9, 2))\n",
    "ax = plt.subplot(131)\n",
    "mmfplt.phase_contour(x, y, z, colors=\"k\", linewidths=0.5)\n",
    "ax.set_aspect(1)\n",
    "\n",
    "# This is a little slow but allows you to vary the luminosity.\n",
    "ax = plt.subplot(132)\n",
    "mmfplt.imcontourf(x, y, mmfplt.colors.color_complex(z))\n",
    "mmfplt.phase_contour(x, y, z, linewidths=0.5)\n",
    "ax.set_aspect(1)\n",
    "\n",
    "# This is faster if you just want to show the phase and allows\n",
    "# for a colorbar via a registered colormap\n",
    "ax = plt.subplot(133)\n",
    "mmfplt.imcontourf(x, y, np.angle(z), cmap=\"huslp\")\n",
    "ax.set_aspect(1)\n",
    "plt.colorbar()\n",
    "mmfplt.phase_contour(x, y, z, linewidths=0.5)"
   ]
  },
  {
   "cell_type": "markdown",
   "id": "6ca04666",
   "metadata": {},
   "source": [
    "## Debugging"
   ]
  },
  {
   "cell_type": "markdown",
   "id": "b83cd52a",
   "metadata": {},
   "source": [
    "A couple of debugging tools are provided.  The most useful is the `debug` decorator which will store the local variables of a function in a dictionary or in your global scope."
   ]
  },
  {
   "cell_type": "code",
   "execution_count": null,
   "id": "054ab304",
   "metadata": {},
   "outputs": [],
   "source": [
    "from mmfutils.debugging import debug\n",
    "\n",
    "\n",
    "@debug(locals())\n",
    "def f(x):\n",
    "    y = x**1.5\n",
    "    z = 2 / x\n",
    "    return z\n",
    "\n",
    "\n",
    "print(f(2.0), x, y, z)"
   ]
  },
  {
   "cell_type": "markdown",
   "id": "7acfd6c5",
   "metadata": {},
   "source": [
    "## Mathematics"
   ]
  },
  {
   "cell_type": "markdown",
   "id": "ba9c6f07",
   "metadata": {},
   "source": [
    "We include a few mathematical tools here too.  In particular, numerical integration and differentiation.  Check the API documentation for details."
   ]
  },
  {
   "cell_type": "markdown",
   "id": "0d9319c3",
   "metadata": {},
   "source": [
    "# Developer Instructions"
   ]
  },
  {
   "cell_type": "markdown",
   "id": "60140ab0",
   "metadata": {},
   "source": [
    "For Developer Notes, please see [Notes.md](../Notes.md)."
   ]
  },
  {
   "cell_type": "markdown",
   "id": "90cf043f",
   "metadata": {},
   "source": [
    "Complete code coverage information is provided in ``build/_coverage/index.html``."
   ]
  },
  {
   "cell_type": "code",
   "execution_count": null,
   "id": "a59d985c",
   "metadata": {},
   "outputs": [],
   "source": [
    "from IPython.display import HTML"
   ]
  },
  {
   "cell_type": "code",
   "execution_count": null,
   "id": "7b4a1b68",
   "metadata": {},
   "outputs": [],
   "source": [
    "with open(os.path.join(ROOTDIR, \"build/_coverage/index.html\")) as f:\n",
    "    coverage = f.read()\n",
    "HTML(coverage)"
   ]
  },
  {
   "cell_type": "markdown",
   "id": "c1868579",
   "metadata": {},
   "source": [
    "# Change Log"
   ]
  },
  {
   "cell_type": "markdown",
   "id": "3c9d3f64",
   "metadata": {},
   "source": [
    "## REL: 0.6.7\n",
    "\n",
    "* Add derivative `d=1` support for step and mstep.  Remove floating point warning.\n",
    "* Improved FPS context: better sleeping timing and default timeout behavior.\n",
    "* Drop support for python 3.9 and below.  (Could work, but dependencies need careful\n",
    "  thought and version pinning.)\n",
    "* Added IBasisCutoff to allow working with the Galerkin projected GPE.\n",
    "* Updated some tests to work with new Numpy formatting (See [NEP\n",
    "  51](https://numpy.org/neps/nep-0051-scalar-representation.html).)\n",
    "* Fixed broken rasterization in contourf but should be unnecessary in the future (see\n",
    "  https://github.com/matplotlib/matplotlib/issues/27669).\n",
    "* Improved `performance.auto_timeit`.\n",
    "* Revert to installing pyfftw from default repo now that [issue\n",
    "  303](https://github.com/pyFFTW/pyFFTW/issues/303) is fixed."
   ]
  },
  {
   "cell_type": "markdown",
   "id": "5d655bb5",
   "metadata": {},
   "source": [
    "## REL: 0.6.6\n",
    "* Fix issue #31: FFT falbacks should work even if pyfftw is not installed.  (Monkeypatch this case in `test_performance_fft.py`)\n",
    "* Fix issue #32: Make copy of arrays before calling pyfftw builders for the convenience functions to ensure that everything works, even if they are not `WRITEABLE`."
   ]
  },
  {
   "cell_type": "markdown",
   "id": "44158389",
   "metadata": {},
   "source": [
    "## REL: 0.6.5\n",
    "\n",
    "* Fix issue #30: measure fft performance and fallback to numpy (with a warning) if it is faster than pyfftw."
   ]
  },
  {
   "cell_type": "markdown",
   "id": "9f65d594",
   "metadata": {},
   "source": [
    "## REL: 0.6.4\n",
    "* Support python 3.7.13 through 3.11.\n",
    "* Fix some tests.\n",
    "* Add `contexts.FPS` which is generally preferred to `NoInterrupt`.\n",
    "* Add a `timeout=` argument to contexts.\n",
    "* Unbind versions.\n",
    "* Fix a couple of bugs in `math.bases.bases.py`:\n",
    "  * Actually use `memoization_GB`.\n",
    "  * `PeriodicBasis.kx` is now a property."
   ]
  },
  {
   "cell_type": "markdown",
   "id": "18879b9e",
   "metadata": {},
   "source": [
    "## REL: 0.6.3\n",
    "* Fix some dependencies."
   ]
  },
  {
   "cell_type": "markdown",
   "id": "491bacc6",
   "metadata": {},
   "source": [
    "## REL: 0.6.2"
   ]
  },
  {
   "cell_type": "markdown",
   "id": "d102cbe6",
   "metadata": {},
   "source": [
    "* Fix some issues with GPU and PeriodicBases.\n",
    "* Add warning to FFT plans about data ownership.\n",
    "* Include some Sparkline demonstrations.\n",
    "* Drop support for Python 3.6. (Still no support for 3.10)."
   ]
  },
  {
   "cell_type": "markdown",
   "id": "425b8f5f",
   "metadata": {},
   "source": [
    "## REL: 0.6.0"
   ]
  },
  {
   "cell_type": "markdown",
   "id": "e49e09d5",
   "metadata": {},
   "source": [
    "* Use Poetry for dependency management.\n",
    "* Update to `src/mmfutils` layout.\n",
    "* Better testing and coverage, including GitHub CI.\n",
    "* Odd-numbered lattices are now centered at 0.\n",
    "* Added `fftw` extra."
   ]
  },
  {
   "cell_type": "markdown",
   "id": "c31005c0",
   "metadata": {},
   "source": [
    "## REL: 0.5.4"
   ]
  },
  {
   "cell_type": "markdown",
   "id": "ab6cb42f",
   "metadata": {},
   "source": [
    "* Drop support for Python 3.5.\n",
    "* Use [Nox](https://nox.thea.codes) for testing (see [Notes.md](../Notes.md))"
   ]
  },
  {
   "cell_type": "markdown",
   "id": "a25a5702",
   "metadata": {},
   "source": [
    "## REL: 0.5.3"
   ]
  },
  {
   "cell_type": "markdown",
   "id": "ff01f0f4",
   "metadata": {},
   "source": [
    "Allow Python 3.8.  Previous version required `python <= 3.7` due to an [issue with ipyparallel](https://github.com/ipython/ipyparallel/issues/396).  This has been resolved with revision 6.2.5 which is available with `conda`.\n"
   ]
  },
  {
   "cell_type": "markdown",
   "id": "dd15470d",
   "metadata": {},
   "source": [
    "## REL: 0.5.1"
   ]
  },
  {
   "cell_type": "markdown",
   "id": "d98cbb47",
   "metadata": {},
   "source": [
    "API changes:\n",
    "\n",
    "* Split `mmfutils.containers.Object` into `ObjectBase` which is simple and `ObjectMixin` which provides the picking support.  Demonstrate in docs how the pickling can be useful, but slows copying."
   ]
  },
  {
   "cell_type": "markdown",
   "id": "ddf3151b",
   "metadata": {},
   "source": [
    "## REL: 0.5.0"
   ]
  },
  {
   "cell_type": "markdown",
   "id": "6d55f117",
   "metadata": {},
   "source": [
    "API changes:\n",
    "\n",
    "* Python 3 support only.\n",
    "* `mmfutils.math.bases.interface` renamed to `mmfutils.math.bases.interfaces`.\n",
    "* Added default class-variable attribute support to e`mmfutils.containers.Object`.\n",
    "* Minor enhancements to `mmfutils.math.bases.PeriodicBasis` to enhance GPU support.\n",
    "* Added `mmfutils.math.bases.interfaces.IBasisLz` and support in `mmfutils.math.bases.bases.PeriodicBasis` for rotating frames.\n",
    "* Cleanup of build environment and tests.\n",
    "  * Single environment `_mmfutils` now used for testing and documentation."
   ]
  },
  {
   "cell_type": "markdown",
   "id": "73db929d",
   "metadata": {},
   "source": [
    "## REL: 0.4.13"
   ]
  },
  {
   "cell_type": "markdown",
   "id": "d76d0486",
   "metadata": {},
   "source": [
    "API changes:\n",
    "\n",
    "* Use `@implementer()` class decorator rather than `classImplements` or `implements` in all interfaces.\n",
    "* Improve `NoInterrupt` context.  Added `NoInterrupt.unregister()`: this allows `NoInterrupt` to work in a notebook cell even when the signal handlers are reset.  (But only works in that one cell.)\n",
    "* Added Abel transform `integrate2` to Cylindrical bases.\n",
    "\n",
    "Issues:\n",
    "\n",
    "* Resolved issue #22: Masked arrays work with `imcontourf` etc.\n",
    "* Resolved issue #23: `NoInterrupt` works well except in notebooks due to [ipykernel issue #328](https://github.com/ipython/ipykernel/issues/328).\n",
    "* Resolved issue #24: Python 3 is now fully supported and tested."
   ]
  },
  {
   "cell_type": "markdown",
   "id": "c7d44385",
   "metadata": {},
   "source": [
    "## REL: 0.4.10"
   ]
  },
  {
   "cell_type": "markdown",
   "id": "a842b089",
   "metadata": {},
   "source": [
    "API changes:\n",
    "\n",
    "* Added `contourf`, `error_line`, and `ListCollections` to `mmfutils.plot`.\n",
    "* Added Python 3 support (still a couple of issues such as `mmfutils.math.integrate.ssum_inline`.)\n",
    "* Added `mmf.math.bases.IBasisKx` and update `lagrangian` in bases to accept `k2` and `kx2` for modified dispersion control (along x).\n",
    "* Added `math.special.ellipkinv`.\n",
    "* Added some new `mmfutils.math.linalg` tools.\n",
    "\n",
    "Issues:\n",
    "\n",
    "* Resolved issue #20: `DyadicSum` and `scipy.optimize.nonlin.Jacobian`\n",
    "* Resolved issue #22: imcontourf now respects masked arrays.\n",
    "* Resolved issue #24: Support Python 3.\n"
   ]
  },
  {
   "cell_type": "markdown",
   "id": "3bce7bd5",
   "metadata": {},
   "source": [
    "## REL: 0.4.9"
   ]
  },
  {
   "cell_type": "markdown",
   "id": "036154b4",
   "metadata": {},
   "source": [
    "*< incomplete >*"
   ]
  },
  {
   "cell_type": "markdown",
   "id": "f7034ea8",
   "metadata": {},
   "source": [
    "## REL: 0.4.7"
   ]
  },
  {
   "cell_type": "markdown",
   "id": "b502fe38",
   "metadata": {},
   "source": [
    "API changes:\n",
    "\n",
    "* Added `mmfutils.interface.describe_interface()` for inserting interfaces into documentation.\n",
    "* Added some DVR basis code to `mmfutils.math.bases`.\n",
    "* Added a diverging colormap and some support in `mmfutils.plot`.\n",
    "* Added a Wigner Ville distribution computation in `mmfutils.math.wigner`\n",
    "* Added `mmfutils.optimize.usolve` and `ubrentq` for finding roots with [`uncertanties`](https://pythonhosted.org/uncertainties/) support.\n",
    "\n",
    "Issues:\n",
    "\n",
    "* Resolve issue #8: Use [`ipyparallel`](https://github.com/ipython/ipyparallel) now.\n",
    "* Resolve issue #9: Use [pytest](https://pytest.org) rather than `nose` (which is no longer supported).\n",
    "* Resolve issue #10: PYFFTW wrappers now support negative `axis` and `axes` arguments.\n",
    "* Address issue #11: Preliminary version of some DVR basis classes.\n",
    "* Resolve issue #12: Added solvers with [`uncertanties`](https://pythonhosted.org/uncertainties/) support."
   ]
  }
 ],
 "metadata": {
  "jupytext": {
   "cell_metadata_json": true,
   "encoding": "# -*- coding: utf-8 -*-",
   "formats": "md:myst,ipynb"
  },
  "kernelspec": {
   "display_name": "Python [conda env:work]",
   "language": "python",
   "name": "conda-env-work-py"
  }
 },
 "nbformat": 4,
 "nbformat_minor": 5
}
